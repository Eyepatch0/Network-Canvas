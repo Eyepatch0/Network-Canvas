{
 "cells": [
  {
   "cell_type": "code",
   "execution_count": 2,
   "id": "eb8079ae",
   "metadata": {},
   "outputs": [],
   "source": [
    "# Import libraries\n",
    "import pandas as pd\n",
    "import numpy as np\n",
    "import matplotlib.pyplot as plt\n",
    "import seaborn as sns\n",
    "from matplotlib.colors import LinearSegmentedColormap\n",
    "import plotly.graph_objects as go\n",
    "from plotly.subplots import make_subplots\n",
    "import ipywidgets as widgets\n",
    "import plotly.express as px\n",
    "from scipy.stats import skew, kurtosis\n",
    "from IPython.display import display, clear_output"
   ]
  },
  {
   "cell_type": "code",
   "execution_count": 3,
   "id": "05af1070",
   "metadata": {},
   "outputs": [],
   "source": [
    "# Load datasets\n",
    "dataset_1 = pd.read_csv(\"./Data_Provider1.csv\")\n",
    "dataset_2 = pd.read_csv(\"./Data_Provider2.csv\")\n",
    "dataset_3 = pd.read_csv(\"./Data_Provider3.csv\")"
   ]
  },
  {
   "cell_type": "code",
   "execution_count": 4,
   "id": "3ee9b6f3",
   "metadata": {},
   "outputs": [
    {
     "name": "stdout",
     "output_type": "stream",
     "text": [
      "<class 'pandas.core.frame.DataFrame'>\n",
      "RangeIndex: 525 entries, 0 to 524\n",
      "Data columns (total 7 columns):\n",
      " #   Column                    Non-Null Count  Dtype  \n",
      "---  ------                    --------------  -----  \n",
      " 0   Aisle Number              450 non-null    object \n",
      " 1   Quad Number               450 non-null    object \n",
      " 2   Timestamp                 450 non-null    object \n",
      " 3   RSSI (dBm)                450 non-null    float64\n",
      " 4   TCP Upload Speed (Mbps)   450 non-null    float64\n",
      " 5   TCP Upload QoS (%)        450 non-null    float64\n",
      " 6   TCP Round Trip Time (ms)  450 non-null    float64\n",
      "dtypes: float64(4), object(3)\n",
      "memory usage: 28.8+ KB\n",
      "<class 'pandas.core.frame.DataFrame'>\n",
      "RangeIndex: 339 entries, 0 to 338\n",
      "Data columns (total 7 columns):\n",
      " #   Column                    Non-Null Count  Dtype  \n",
      "---  ------                    --------------  -----  \n",
      " 0   Aisle Number              262 non-null    object \n",
      " 1   Quad Number               262 non-null    object \n",
      " 2   Timestamp                 262 non-null    object \n",
      " 3   RSSI (dBm)                262 non-null    float64\n",
      " 4   TCP Upload Speed (Mbps)   262 non-null    float64\n",
      " 5   TCP Upload QoS (%)        262 non-null    float64\n",
      " 6   TCP Round Trip Time (ms)  262 non-null    float64\n",
      "dtypes: float64(4), object(3)\n",
      "memory usage: 18.7+ KB\n",
      "<class 'pandas.core.frame.DataFrame'>\n",
      "RangeIndex: 405 entries, 0 to 404\n",
      "Data columns (total 7 columns):\n",
      " #   Column                    Non-Null Count  Dtype  \n",
      "---  ------                    --------------  -----  \n",
      " 0   Aisle Number              330 non-null    object \n",
      " 1   Quad Number               330 non-null    object \n",
      " 2   Timestamp                 330 non-null    object \n",
      " 3   RSSI (dBm)                330 non-null    float64\n",
      " 4   TCP Upload Speed (Mbps)   330 non-null    float64\n",
      " 5   TCP Upload QoS (%)        330 non-null    float64\n",
      " 6   TCP Round Trip Time (ms)  330 non-null    float64\n",
      "dtypes: float64(4), object(3)\n",
      "memory usage: 22.3+ KB\n"
     ]
    }
   ],
   "source": [
    "# Check for  number of rows and columns, datatypes, and missing values\n",
    "dataset_1.info()\n",
    "dataset_2.info()\n",
    "dataset_3.info()"
   ]
  },
  {
   "cell_type": "markdown",
   "id": "b7c848d1",
   "metadata": {},
   "source": [
    "## Data Cleaning:\n"
   ]
  },
  {
   "cell_type": "code",
   "execution_count": 5,
   "id": "242cab2a",
   "metadata": {},
   "outputs": [],
   "source": [
    "# Change the datatype of Timestamp from object to datetime\n",
    "dataset_1['Timestamp'] = pd.to_datetime(dataset_1['Timestamp'])\n",
    "dataset_2['Timestamp'] = pd.to_datetime(dataset_2['Timestamp'])\n",
    "dataset_3['Timestamp'] = pd.to_datetime(dataset_3['Timestamp'])"
   ]
  },
  {
   "cell_type": "code",
   "execution_count": 6,
   "id": "c332270c",
   "metadata": {},
   "outputs": [],
   "source": [
    "# Remove rows with all missing values\n",
    "dataset_1 = dataset_1.dropna(how='all')\n",
    "\n",
    "dataset_2 = dataset_2.dropna(how='all')\n",
    "\n",
    "dataset_3 = dataset_3.dropna(how='all')"
   ]
  },
  {
   "cell_type": "code",
   "execution_count": 7,
   "id": "8a687fcf",
   "metadata": {},
   "outputs": [],
   "source": [
    "# Change the datatype of the Aisle Number and Block Number(given as Quad Number in datasets) from object to string\n",
    "dataset_1['Aisle Number'] = dataset_1['Aisle Number'].astype(str)\n",
    "dataset_1['Quad Number'] = dataset_1['Quad Number'].astype(str)\n",
    "dataset_2['Aisle Number'] = dataset_2['Aisle Number'].astype(str)\n",
    "dataset_2['Quad Number'] = dataset_2['Quad Number'].astype(str)\n",
    "dataset_3['Aisle Number'] = dataset_3['Aisle Number'].astype(str)\n",
    "dataset_3['Quad Number'] = dataset_3['Quad Number'].astype(str)"
   ]
  },
  {
   "cell_type": "code",
   "execution_count": 8,
   "id": "ffb8f608",
   "metadata": {},
   "outputs": [
    {
     "name": "stdout",
     "output_type": "stream",
     "text": [
      "Aisle Number                0\n",
      "Quad Number                 0\n",
      "Timestamp                   0\n",
      "RSSI (dBm)                  0\n",
      "TCP Upload Speed (Mbps)     0\n",
      "TCP Upload QoS (%)          0\n",
      "TCP Round Trip Time (ms)    0\n",
      "dtype: int64\n",
      "Aisle Number                0\n",
      "Quad Number                 0\n",
      "Timestamp                   0\n",
      "RSSI (dBm)                  0\n",
      "TCP Upload Speed (Mbps)     0\n",
      "TCP Upload QoS (%)          0\n",
      "TCP Round Trip Time (ms)    0\n",
      "dtype: int64\n",
      "Aisle Number                0\n",
      "Quad Number                 0\n",
      "Timestamp                   0\n",
      "RSSI (dBm)                  0\n",
      "TCP Upload Speed (Mbps)     0\n",
      "TCP Upload QoS (%)          0\n",
      "TCP Round Trip Time (ms)    0\n",
      "dtype: int64\n"
     ]
    }
   ],
   "source": [
    "# Check if there are any NaN values\n",
    "print(dataset_1.isnull().sum())\n",
    "print(dataset_2.isnull().sum())\n",
    "print(dataset_3.isnull().sum())"
   ]
  },
  {
   "cell_type": "code",
   "execution_count": 9,
   "id": "9a8692a8",
   "metadata": {},
   "outputs": [
    {
     "name": "stdout",
     "output_type": "stream",
     "text": [
      "Number of data points in dataset 1:  450\n",
      "Number of data points in dataset 2:  262\n",
      "Number of data points in dataset 3:  330\n"
     ]
    }
   ],
   "source": [
    "# Since, the grid (Aisle Number x Quad Number) is a 8x8 grid, the data should have no more than 64 unique values\n",
    "# Let's check if the data has more than 64 values first\n",
    "print(\"Number of data points in dataset 1: \", dataset_1.shape[0])\n",
    "print(\"Number of data points in dataset 2: \", dataset_2.shape[0])\n",
    "print(\"Number of data points in dataset 3: \", dataset_3.shape[0])"
   ]
  },
  {
   "cell_type": "markdown",
   "id": "eca6a6c0",
   "metadata": {},
   "source": [
    "We have way more than 64 values. I can think of 2 ways to deal with duplicates: Either we take the average of the duplicates or we take the maximum value. I will use both approaches and see which one gives better results.\n"
   ]
  },
  {
   "cell_type": "code",
   "execution_count": 10,
   "id": "fbfdcca5",
   "metadata": {},
   "outputs": [
    {
     "name": "stdout",
     "output_type": "stream",
     "text": [
      "Number of duplicate rows in dataset 1:  386\n",
      "Number of duplicate rows in dataset 2:  198\n",
      "Number of duplicate rows in dataset 3:  268\n"
     ]
    }
   ],
   "source": [
    "# Now, let's check for duplicate rows based on combination of Aisle Number and Block Number(given as Quad Number in the dataset)\n",
    "print(\"Number of duplicate rows in dataset 1: \", dataset_1.duplicated(\n",
    "    subset=['Aisle Number', 'Quad Number']).sum())\n",
    "print(\"Number of duplicate rows in dataset 2: \", dataset_2.duplicated(\n",
    "    subset=['Aisle Number', 'Quad Number']).sum())\n",
    "print(\"Number of duplicate rows in dataset 3: \", dataset_3.duplicated(\n",
    "    subset=['Aisle Number', 'Quad Number']).sum())"
   ]
  },
  {
   "cell_type": "markdown",
   "id": "0e0316a5",
   "metadata": {},
   "source": [
    "### Approach 1: Average of duplicates\n",
    "\n",
    "One consideration is that the RSSI is in dBm, which is a logarithmic scale. So, taking the average of the duplicates is equivalent to taking the geometric mean of the RSSI values.\n",
    "\n",
    "So, I will convert the RSSI values to linear scale(mW), take the average of the duplicates, and then convert it back to log scale(dBm).\n"
   ]
  },
  {
   "cell_type": "code",
   "execution_count": 11,
   "id": "8c43272e",
   "metadata": {},
   "outputs": [
    {
     "name": "stdout",
     "output_type": "stream",
     "text": [
      "Number of data points in dataset 1 after aggregation:  64\n",
      "Number of data points in dataset 2 after aggregation:  64\n",
      "Number of data points in dataset 3 after aggregation:  62\n"
     ]
    }
   ],
   "source": [
    "dataset_1[\"RSSI_linear\"] = 10 ** (dataset_1[\"RSSI (dBm)\"] / 10)\n",
    "dataset_2[\"RSSI_linear\"] = 10 ** (dataset_2[\"RSSI (dBm)\"] / 10)\n",
    "dataset_3[\"RSSI_linear\"] = 10 ** (dataset_3[\"RSSI (dBm)\"] / 10)\n",
    "\n",
    "df_avg1 = dataset_1.groupby([\"Aisle Number\", \"Quad Number\"], as_index=False).agg(\n",
    "    {\n",
    "        \"RSSI_linear\": \"mean\",\n",
    "        \"TCP Upload Speed (Mbps)\": \"mean\",\n",
    "        \"TCP Upload QoS (%)\": \"mean\",\n",
    "        \"TCP Round Trip Time (ms)\": \"mean\"\n",
    "    }\n",
    ")\n",
    "\n",
    "df_avg2 = dataset_2.groupby([\"Aisle Number\", \"Quad Number\"], as_index=False).agg(\n",
    "    {\n",
    "        \"RSSI_linear\": \"mean\",\n",
    "        \"TCP Upload Speed (Mbps)\": \"mean\",\n",
    "        \"TCP Upload QoS (%)\": \"mean\",\n",
    "        \"TCP Round Trip Time (ms)\": \"mean\"\n",
    "    }\n",
    ")\n",
    "\n",
    "df_avg3 = dataset_3.groupby([\"Aisle Number\", \"Quad Number\"], as_index=False).agg(\n",
    "    {\n",
    "        \"RSSI_linear\": \"mean\",\n",
    "        \"TCP Upload Speed (Mbps)\": \"mean\",\n",
    "        \"TCP Upload QoS (%)\": \"mean\",\n",
    "        \"TCP Round Trip Time (ms)\": \"mean\"\n",
    "    }\n",
    ")\n",
    "\n",
    "df_avg1[\"RSSI (dBm)\"] = 10 * np.log10(df_avg1[\"RSSI_linear\"])\n",
    "df_avg2[\"RSSI (dBm)\"] = 10 * np.log10(df_avg2[\"RSSI_linear\"])\n",
    "df_avg3[\"RSSI (dBm)\"] = 10 * np.log10(df_avg3[\"RSSI_linear\"])\n",
    "\n",
    "# Drop the temporary linear column\n",
    "df_avg1 = df_avg1.drop(columns=[\"RSSI_linear\"])\n",
    "df_avg2 = df_avg2.drop(columns=[\"RSSI_linear\"])\n",
    "df_avg3 = df_avg3.drop(columns=[\"RSSI_linear\"])\n",
    "\n",
    "# Check if the data has more than 64 values\n",
    "print(\"Number of data points in dataset 1 after aggregation: \",\n",
    "      df_avg1.shape[0])\n",
    "print(\"Number of data points in dataset 2 after aggregation: \",\n",
    "      df_avg2.shape[0])\n",
    "print(\"Number of data points in dataset 3 after aggregation: \",\n",
    "      df_avg3.shape[0])"
   ]
  },
  {
   "cell_type": "markdown",
   "id": "5b5fc773",
   "metadata": {},
   "source": [
    "### Approach 2: Maximum value\n",
    "\n",
    "I will take the maximum value of the duplicates.\n",
    "\n",
    "Before calculating maximum values, I thought it would be better to use weights based on importance of the features. I will use the following weights provided by the organizers:\n",
    "\n",
    "`(RSSI) * 40% , (TCP Upload Speed) * 40% ,(TCP Upload QoS) * 10% , (TCP RTT) * 10%`\n"
   ]
  },
  {
   "cell_type": "code",
   "execution_count": 12,
   "id": "9cd8c260",
   "metadata": {},
   "outputs": [
    {
     "name": "stdout",
     "output_type": "stream",
     "text": [
      "Number of data points in dataset 1 after aggregation:  64\n",
      "Number of data points in dataset 2 after aggregation:  64\n",
      "Number of data points in dataset 3 after aggregation:  62\n"
     ]
    }
   ],
   "source": [
    "weights = [0.4, 0.4, 0.1, 0.1]\n",
    "df_weighted_max1 = dataset_1.copy()\n",
    "df_weighted_max2 = dataset_2.copy()\n",
    "df_weighted_max3 = dataset_3.copy()\n",
    "\n",
    "\n",
    "def calculate_weighted_score(df):\n",
    "    # To avoid zero division error, add a small value to the denominator if it is zero + inverse transform RTT\n",
    "    df[\"Transformed RTT\"] = 1 / (df[\"TCP Round Trip Time (ms)\"] + 1e-9)\n",
    "\n",
    "    # Normalize the features to a 0-1 range.  This will make the weights more meaningful.\n",
    "    df[\"RSSI (dBm)\"] = (df[\"RSSI (dBm)\"] - df[\"RSSI (dBm)\"].min()) / \\\n",
    "        (df[\"RSSI (dBm)\"].max() - df[\"RSSI (dBm)\"].min())\n",
    "    df[\"TCP Upload Speed (Mbps)\"] = (df[\"TCP Upload Speed (Mbps)\"] - df[\"TCP Upload Speed (Mbps)\"].min()\n",
    "                                     ) / (df[\"TCP Upload Speed (Mbps)\"].max() - df[\"TCP Upload Speed (Mbps)\"].min())\n",
    "    df[\"TCP Upload QoS (%)\"] = (df[\"TCP Upload QoS (%)\"] - df[\"TCP Upload QoS (%)\"].min()\n",
    "                                ) / (df[\"TCP Upload QoS (%)\"].max() - df[\"TCP Upload QoS (%)\"].min())\n",
    "    df[\"Transformed RTT\"] = (df[\"Transformed RTT\"] - df[\"Transformed RTT\"].min()) / (\n",
    "        df[\"Transformed RTT\"].max() - df[\"Transformed RTT\"].min())\n",
    "\n",
    "    weighted_score = (\n",
    "        df[\"RSSI (dBm)\"] * weights[0] +\n",
    "        df[\"TCP Upload Speed (Mbps)\"] * weights[1] +\n",
    "        df[\"TCP Upload QoS (%)\"] * weights[2] +\n",
    "        df[\"Transformed RTT\"] * weights[3]\n",
    "    )\n",
    "    return weighted_score\n",
    "\n",
    "\n",
    "df_weighted_max1[\"Weighted Score\"] = calculate_weighted_score(df_weighted_max1)\n",
    "df_weighted_max2[\"Weighted Score\"] = calculate_weighted_score(df_weighted_max2)\n",
    "df_weighted_max3[\"Weighted Score\"] = calculate_weighted_score(df_weighted_max3)\n",
    "\n",
    "\n",
    "def get_max_score(df, df_weighted, dataset_name):\n",
    "    idx = df_weighted.groupby([\"Aisle Number\", \"Quad Number\"])[\n",
    "        \"Weighted Score\"].idxmax()\n",
    "    idx = idx.dropna()\n",
    "\n",
    "    if idx.empty:\n",
    "        print(\n",
    "            f\"Warning: No valid max rows found for {dataset_name}. Returning empty DataFrame.\")\n",
    "        return pd.DataFrame(columns=[\"Aisle Number\", \"Quad Number\", \"RSSI (dBm)\", \"TCP Upload Speed (Mbps)\", \"TCP Upload QoS (%)\", \"TCP Round Trip Time (ms)\"])\n",
    "\n",
    "    try:\n",
    "        df_max = df.loc[idx, [\"Aisle Number\", \"Quad Number\",\n",
    "                              \"RSSI (dBm)\", \"TCP Upload Speed (Mbps)\", \"TCP Upload QoS (%)\", \"TCP Round Trip Time (ms)\"]].reset_index(drop=True)\n",
    "    except KeyError as e:\n",
    "        print(f\"KeyError: {e}\")\n",
    "        print(f\"Invalid index values in idx for {dataset_name}: {idx.index}\")\n",
    "        raise\n",
    "\n",
    "    return df_max\n",
    "\n",
    "\n",
    "df_max1 = get_max_score(dataset_1, df_weighted_max1, \"dataset_1\")\n",
    "df_max2 = get_max_score(dataset_2, df_weighted_max2, \"dataset_2\")\n",
    "df_max3 = get_max_score(dataset_3, df_weighted_max3, \"dataset_3\")\n",
    "\n",
    "\n",
    "print(\"Number of data points in dataset 1 after aggregation: \",\n",
    "      df_max1.shape[0])\n",
    "print(\"Number of data points in dataset 2 after aggregation: \",\n",
    "      df_max2.shape[0])\n",
    "print(\"Number of data points in dataset 3 after aggregation: \",\n",
    "      df_max3.shape[0])"
   ]
  },
  {
   "cell_type": "markdown",
   "id": "d8235f6a",
   "metadata": {},
   "source": [
    "### Ensure that we have 64 values\n",
    "\n",
    "I will use the following approach to ensure that we have 64 values, since we already have dealt with duplicates, the only way we can have less than 64 values is if we have missing values. I will use the following approach to deal with missing values:\n"
   ]
  },
  {
   "cell_type": "code",
   "execution_count": 13,
   "id": "a3f12eca",
   "metadata": {},
   "outputs": [
    {
     "name": "stdout",
     "output_type": "stream",
     "text": [
      "Number of data points in dataset 1 after ensuring all combinations:  64\n",
      "Number of data points in dataset 2 after ensuring all combinations:  64\n",
      "Number of data points in dataset 3 after ensuring all combinations:  64\n"
     ]
    }
   ],
   "source": [
    "# Ensure all combinations of Aisle Number and Quad Number are present in the dataset, even if they have missing values because later we will be using these combinations to create grid plots\n",
    "\n",
    "def ensure_all_combinations(df):\n",
    "    aisle_numbers = [f\"A{i}\" for i in range(1, 9)]\n",
    "    quad_numbers = [f\"B{i}\" for i in range(1, 9)]\n",
    "    all_combinations = [(a, q) for a in aisle_numbers for q in quad_numbers]\n",
    "\n",
    "    existing_combinations = list(zip(df[\"Aisle Number\"], df[\"Quad Number\"]))\n",
    "\n",
    "    missing_combinations = [\n",
    "        comb for comb in all_combinations if comb not in existing_combinations]\n",
    "\n",
    "    new_rows = []\n",
    "    for aisle, quad in missing_combinations:\n",
    "        new_row = {\n",
    "            \"Aisle Number\": aisle,\n",
    "            \"Quad Number\": quad,\n",
    "            \"RSSI (dBm)\": np.nan,\n",
    "            \"TCP Upload Speed (Mbps)\": np.nan,\n",
    "            \"TCP Upload QoS (%)\": np.nan,\n",
    "            \"TCP Round Trip Time (ms)\": np.nan,\n",
    "        }\n",
    "        new_rows.append(new_row)\n",
    "\n",
    "    if new_rows:\n",
    "        df = pd.concat([df, pd.DataFrame(new_rows)], ignore_index=True)\n",
    "\n",
    "    df['isDataPresent'] = ~df[['RSSI (dBm)', 'TCP Upload Speed (Mbps)',\n",
    "                               'TCP Upload QoS (%)', 'TCP Round Trip Time (ms)']].isna().all(axis=1)\n",
    "\n",
    "    return df\n",
    "\n",
    "\n",
    "df_avg1 = ensure_all_combinations(df_avg1)\n",
    "df_avg2 = ensure_all_combinations(df_avg2)\n",
    "df_avg3 = ensure_all_combinations(df_avg3)\n",
    "df_max1 = ensure_all_combinations(df_max1)\n",
    "df_max2 = ensure_all_combinations(df_max2)\n",
    "df_max3 = ensure_all_combinations(df_max3)\n",
    "\n",
    "print(\"Number of data points in dataset 1 after ensuring all combinations: \",\n",
    "      df_avg1.shape[0])\n",
    "print(\"Number of data points in dataset 2 after ensuring all combinations: \",\n",
    "      df_avg2.shape[0])\n",
    "print(\"Number of data points in dataset 3 after ensuring all combinations: \",\n",
    "      df_avg3.shape[0])"
   ]
  },
  {
   "cell_type": "markdown",
   "id": "c2ebf4ed",
   "metadata": {},
   "source": [
    "For dataset 3 we have 2 missing values in both average and maximum values.\n",
    "\n",
    "The missing values are in the following rows:\n",
    "\n",
    "- A7 B2\n",
    "- A7 B8\n"
   ]
  },
  {
   "cell_type": "markdown",
   "id": "562bf8d2",
   "metadata": {},
   "source": [
    "## EDA (Exploratory Data Analysis):\n"
   ]
  },
  {
   "cell_type": "markdown",
   "id": "de5cf30e",
   "metadata": {},
   "source": [
    "### Histogram for all KPIs for both approaches\n",
    "\n",
    "I decided to use plotly for the visualizations since it is more interactive and to avoid information overload.\n"
   ]
  },
  {
   "cell_type": "code",
   "execution_count": 14,
   "id": "55ae44f2",
   "metadata": {},
   "outputs": [],
   "source": [
    "bins = {\n",
    "    # Use -inf and inf\n",
    "    'RSSI (dBm)': [-float('inf'), -105, -96, -86, float('inf')],\n",
    "    # Start from 0 for speed\n",
    "    'TCP Upload Speed (Mbps)': [0, 2, 7, 15, 30, float('inf')],\n",
    "    'TCP Upload QoS (%)': [0, 30, 50, 70, 100],\n",
    "    # Start from 0 for time\n",
    "    'TCP Round Trip Time (ms)': [0, 50, 100, 200, float('inf')]\n",
    "}\n",
    "\n",
    "bin_labels = {\n",
    "    'RSSI (dBm)': ['Poor', 'Okay', 'Fair', 'Good'],\n",
    "    'TCP Upload Speed (Mbps)': ['Poor', 'Usable', 'Okay', 'Fair', 'Good'],\n",
    "    'TCP Upload QoS (%)': ['Poor', 'Okay', 'Fair', 'Good'],\n",
    "    'TCP Round Trip Time (ms)': ['Good', 'Fair', 'Okay', 'Poor']\n",
    "}\n",
    "\n",
    "colors = ['#1f77b4', '#ff7f0e', '#2ca02c', '#d62728', '#9467bd', '#8c564b']\n",
    "\n",
    "color_map = {\n",
    "    'Poor': 'red',\n",
    "    'Usable': 'orange',\n",
    "    'Acceptable': 'goldenrod',\n",
    "    'Adequate': 'yellow',\n",
    "    'Okay': 'yellow',\n",
    "    'Fair': 'lightgreen',\n",
    "    'Good': 'green',\n",
    "    'Missing': 'lightgrey'\n",
    "}\n",
    "\n",
    "aisle_numbers = [f'A{i}' for i in range(1, 9)]\n",
    "quad_numbers = [f'B{i}' for i in range(1, 9)]"
   ]
  },
  {
   "cell_type": "code",
   "execution_count": 15,
   "id": "25620125",
   "metadata": {},
   "outputs": [],
   "source": [
    "def create_interactive_histograms(num_datasets, dfs_avg, dfs_max):\n",
    "    if num_datasets > len(dfs_avg) or num_datasets > len(dfs_max):\n",
    "        raise ValueError(\n",
    "            \"num_datasets exceeds the number of provided DataFrames.\")\n",
    "\n",
    "    if len(colors) < num_datasets:\n",
    "        raise ValueError(\n",
    "            \"Not enough colors defined for the number of datasets.\")\n",
    "\n",
    "    dataset_names = [f'Dataset {i+1}' for i in range(num_datasets)]\n",
    "\n",
    "    metric_dropdown = widgets.Dropdown(\n",
    "        options=['RSSI (dBm)', 'TCP Upload Speed (Mbps)',\n",
    "                 'TCP Upload QoS (%)', 'TCP Round Trip Time (ms)'],\n",
    "        value='RSSI (dBm)',\n",
    "        description='Metric:',\n",
    "        style={'description_width': 'initial'},\n",
    "        layout=widgets.Layout(width='50%')\n",
    "    )\n",
    "\n",
    "    data_type_toggle = widgets.ToggleButtons(\n",
    "        options=['Average', 'Maximum'],\n",
    "        value='Average',\n",
    "        description='Data Type:',\n",
    "        button_style='',\n",
    "        tooltips=['Show average values', 'Show maximum values'],\n",
    "        style={'description_width': 'initial'},\n",
    "        layout=widgets.Layout(width='40%')\n",
    "    )\n",
    "\n",
    "    def update_plot(metric=None, data_type=None):\n",
    "        if metric is None:\n",
    "            metric = metric_dropdown.value\n",
    "        if data_type is None:\n",
    "            data_type = data_type_toggle.value\n",
    "\n",
    "        if data_type == 'Average':\n",
    "            dfs = dfs_avg[:num_datasets]\n",
    "        else:\n",
    "            dfs = dfs_max[:num_datasets]\n",
    "\n",
    "        fig = make_subplots(rows=1, cols=num_datasets,\n",
    "                            subplot_titles=[\n",
    "                                f\"{dataset_names[i]} - {metric}\" for i in range(num_datasets)],\n",
    "                            shared_yaxes=True)\n",
    "\n",
    "        max_count = 0\n",
    "\n",
    "        for i, df in enumerate(dfs):\n",
    "            categories = pd.cut(df[metric], bins=bins[metric],\n",
    "                                labels=bin_labels[metric], right=False)\n",
    "            category_counts = categories.value_counts().reindex(\n",
    "                bin_labels[metric], fill_value=0)\n",
    "\n",
    "            if max(category_counts) > max_count:\n",
    "                max_count = max(category_counts)\n",
    "\n",
    "            fig.add_trace(\n",
    "                go.Bar(\n",
    "                    x=category_counts.index,\n",
    "                    y=category_counts.values,\n",
    "                    name=dataset_names[i],\n",
    "                    marker_color=colors[i],\n",
    "                    hovertemplate='Category: %{x}<br>Count: %{y}<extra></extra>'\n",
    "                ),\n",
    "                row=1, col=i + 1\n",
    "            )\n",
    "\n",
    "        fig.update_layout(\n",
    "            title=f'{metric} Values Comparison - {data_type}',\n",
    "            height=500,\n",
    "            width=350 * num_datasets,\n",
    "            showlegend=False,\n",
    "            template='plotly_white',\n",
    "            margin=dict(l=40, r=40, t=80, b=40)\n",
    "        )\n",
    "\n",
    "        for i in range(1, num_datasets + 1):\n",
    "            fig.update_yaxes(title_text='Count' if i == 1 else None,\n",
    "                             range=[0, max_count * 1.1],\n",
    "                             row=1, col=i)\n",
    "            fig.update_xaxes(title_text='Category', row=1, col=i)\n",
    "\n",
    "        return fig\n",
    "\n",
    "    fig = update_plot()\n",
    "\n",
    "    plot_output = widgets.Output()\n",
    "\n",
    "    with plot_output:\n",
    "        display(fig)\n",
    "\n",
    "    def on_change(change):\n",
    "        plot_output.clear_output(wait=True)\n",
    "        with plot_output:\n",
    "            fig = update_plot(metric_dropdown.value, data_type_toggle.value)\n",
    "            display(fig)\n",
    "\n",
    "    metric_dropdown.observe(on_change, names='value')\n",
    "    data_type_toggle.observe(on_change, names='value')\n",
    "\n",
    "    controls = widgets.HBox([metric_dropdown, data_type_toggle])\n",
    "    dashboard = widgets.VBox([controls, plot_output])\n",
    "\n",
    "    return dashboard"
   ]
  },
  {
   "cell_type": "code",
   "execution_count": 16,
   "id": "337f549f",
   "metadata": {},
   "outputs": [
    {
     "data": {
      "application/vnd.jupyter.widget-view+json": {
       "model_id": "d2f8150cf6e94783ba726aa99991aa0f",
       "version_major": 2,
       "version_minor": 0
      },
      "text/plain": [
       "VBox(children=(HBox(children=(Dropdown(description='Metric:', layout=Layout(width='50%'), options=('RSSI (dBm)…"
      ]
     },
     "metadata": {},
     "output_type": "display_data"
    },
    {
     "name": "stdout",
     "output_type": "stream",
     "text": [
      "Use the dropdown and toggle buttons above to switch between different metrics and data types (Average/Maximum).\n",
      "Hover over the bars to see detailed values.\n"
     ]
    }
   ],
   "source": [
    "dfs_avg = [df_avg1, df_avg2, df_avg3]\n",
    "dfs_max = [df_max1, df_max2, df_max3]\n",
    "\n",
    "num_datasets = 3\n",
    "\n",
    "histogram_dashboard = create_interactive_histograms(\n",
    "    num_datasets, dfs_avg, dfs_max)\n",
    "display(histogram_dashboard)\n",
    "\n",
    "print(\"Use the dropdown and toggle buttons above to switch between different metrics and data types (Average/Maximum).\")\n",
    "print(\"Hover over the bars to see detailed values.\")"
   ]
  },
  {
   "cell_type": "markdown",
   "id": "bf361132",
   "metadata": {},
   "source": [
    "### Scatter plot for all KPIs for both approaches"
   ]
  },
  {
   "cell_type": "code",
   "execution_count": 17,
   "id": "2080fa8e",
   "metadata": {},
   "outputs": [],
   "source": [
    "def interactive_scatter_plot(dfs1, dfs2):\n",
    "    params = ['RSSI (dBm)', 'TCP Upload Speed (Mbps)',\n",
    "              'TCP Upload QoS (%)', 'TCP Round Trip Time (ms)']\n",
    "    param_selector = widgets.Dropdown(\n",
    "        options=params,\n",
    "        description='Parameter:',\n",
    "        style={'description_width': 'initial'}\n",
    "    )\n",
    "\n",
    "    dataset_selector = widgets.Dropdown(\n",
    "        options=[('Average', 0), ('Maximum', 1)],\n",
    "        description='Dataset:',\n",
    "        style={'description_width': 'initial'}\n",
    "    )\n",
    "\n",
    "    output = widgets.Output()\n",
    "\n",
    "    def update_plot(param, dataset_group):\n",
    "        with output:\n",
    "            output.clear_output(wait=True)\n",
    "            dfs = dfs1 if dataset_group == 0 else dfs2\n",
    "\n",
    "            fig = go.Figure()\n",
    "            for i, df in enumerate(dfs):\n",
    "                fig.add_trace(go.Scatter(\n",
    "                    x=df.index, y=df[param], mode='markers', name=f'Cellular Provider {i+1}'))\n",
    "\n",
    "            fig.update_layout(title=f'Comparison of {param} Across Datasets in Group {dataset_group+1}',\n",
    "                              xaxis_title='Index',\n",
    "                              yaxis_title=param,\n",
    "                              template='plotly_white')\n",
    "            fig.show()\n",
    "\n",
    "    widgets.interactive(update_plot, param=param_selector,\n",
    "                        dataset_group=dataset_selector)\n",
    "\n",
    "    display(param_selector, dataset_selector, output)\n",
    "    update_plot(params[0], 0)"
   ]
  },
  {
   "cell_type": "code",
   "execution_count": 18,
   "id": "7adec98d",
   "metadata": {},
   "outputs": [
    {
     "data": {
      "application/vnd.jupyter.widget-view+json": {
       "model_id": "448cd67a2a3544c196a2ae6470004f04",
       "version_major": 2,
       "version_minor": 0
      },
      "text/plain": [
       "Dropdown(description='Parameter:', options=('RSSI (dBm)', 'TCP Upload Speed (Mbps)', 'TCP Upload QoS (%)', 'TC…"
      ]
     },
     "metadata": {},
     "output_type": "display_data"
    },
    {
     "data": {
      "application/vnd.jupyter.widget-view+json": {
       "model_id": "4de64f8e706a4c45a574540855f0d16d",
       "version_major": 2,
       "version_minor": 0
      },
      "text/plain": [
       "Dropdown(description='Dataset:', options=(('Average', 0), ('Maximum', 1)), style=DescriptionStyle(description_…"
      ]
     },
     "metadata": {},
     "output_type": "display_data"
    },
    {
     "data": {
      "application/vnd.jupyter.widget-view+json": {
       "model_id": "4448519b65bf479980f5882da1046c4e",
       "version_major": 2,
       "version_minor": 0
      },
      "text/plain": [
       "Output()"
      ]
     },
     "metadata": {},
     "output_type": "display_data"
    }
   ],
   "source": [
    "dfs1 = [df_avg1, df_avg2, df_avg3]\n",
    "dfs2 = [df_max1, df_max2, df_max3]\n",
    "interactive_scatter_plot(dfs1, dfs2)"
   ]
  },
  {
   "cell_type": "markdown",
   "id": "1ea54ecd",
   "metadata": {},
   "source": [
    "### Statistical Analysis:\n",
    "\n",
    "We create an interactive dashboard for analyzing and visualizing statistical distributions across multiple datasets. The dashboard enables us to easily switch between datasets, parameters, and visualization types (histograms, box plots, violin plots), while also providing comprehensive statistical metrics (mean, median, skewness, etc.)\n"
   ]
  },
  {
   "cell_type": "code",
   "execution_count": 19,
   "id": "cf241919",
   "metadata": {},
   "outputs": [],
   "source": [
    "def create_interactive_dashboard(dfs_avg, dfs_max=None, bins=None, bin_labels=None):\n",
    "    stats = {}\n",
    "    all_columns = set()\n",
    "\n",
    "    for i, df in enumerate(dfs_avg):\n",
    "        stats[f'Dataset {i+1}'] = {}\n",
    "        numeric_cols = df.select_dtypes(include=[np.number]).columns\n",
    "        all_columns.update(numeric_cols)\n",
    "\n",
    "        for col in numeric_cols:\n",
    "            data = df[col].dropna()\n",
    "            if data.empty:\n",
    "                continue\n",
    "\n",
    "            stats[f'Dataset {i+1}'][col] = {\n",
    "                'Mean': np.mean(data),\n",
    "                'Median': np.median(data),\n",
    "                'Mode': data.mode()[0] if not data.mode().empty else np.nan,\n",
    "                'Standard Deviation': np.std(data),\n",
    "                'Variance': np.var(data),\n",
    "                'Skewness': skew(data) if len(data) > 1 else np.nan,\n",
    "                'Kurtosis': kurtosis(data) if len(data) > 1 else np.nan,\n",
    "                'Range': np.ptp(data),\n",
    "                'Interquartile Range': np.percentile(data, 75) - np.percentile(data, 25),\n",
    "                'Outliers': data[(data < np.percentile(data, 25) - 1.5 * (np.percentile(data, 75) - np.percentile(data, 25))) |\n",
    "                                 (data > np.percentile(data, 75) + 1.5 * (np.percentile(data, 75) - np.percentile(data, 25)))].tolist()\n",
    "            }\n",
    "\n",
    "    all_columns = sorted(list(all_columns))\n",
    "\n",
    "    dataset_dropdown = widgets.Dropdown(\n",
    "        options=[f'Dataset {i+1}' for i in range(len(dfs_avg))],\n",
    "        value=f'Dataset 1',\n",
    "        description='Dataset:',\n",
    "        style={'description_width': 'initial'},\n",
    "        layout=widgets.Layout(width='300px')\n",
    "    )\n",
    "\n",
    "    column_dropdown = widgets.Dropdown(\n",
    "        options=all_columns,\n",
    "        value=all_columns[0] if all_columns else None,\n",
    "        description='Parameter:',\n",
    "        style={'description_width': 'initial'},\n",
    "        layout=widgets.Layout(width='300px')\n",
    "    )\n",
    "\n",
    "    view_type = widgets.RadioButtons(\n",
    "        options=['Statistics', 'Histogram', 'Box Plot',\n",
    "                 'Violin Plot', 'Compare Datasets'],\n",
    "        value='Statistics',\n",
    "        description='View:',\n",
    "        style={'description_width': 'initial'},\n",
    "        layout=widgets.Layout(width='300px')\n",
    "    )\n",
    "\n",
    "    output = widgets.Output()\n",
    "\n",
    "    def update_view(*args):\n",
    "        with output:\n",
    "            clear_output(wait=True)\n",
    "            dataset = dataset_dropdown.value\n",
    "            column = column_dropdown.value\n",
    "            view = view_type.value\n",
    "\n",
    "            if not column or column not in dfs_avg[int(dataset.split()[-1])-1].columns:\n",
    "                print(f\"Column {column} not found in {dataset}\")\n",
    "                return\n",
    "\n",
    "            if view == 'Statistics':\n",
    "                if column in stats[dataset]:\n",
    "                    stats_df = pd.DataFrame.from_dict(\n",
    "                        stats[dataset][column], orient='index', columns=['Value'])\n",
    "                    display(stats_df)\n",
    "                else:\n",
    "                    print(f\"No statistics available for {column} in {dataset}\")\n",
    "\n",
    "            elif view == 'Histogram':\n",
    "                fig = px.histogram(\n",
    "                    dfs_avg[int(dataset.split()[-1])-1],\n",
    "                    x=column,\n",
    "                    nbins=20,\n",
    "                    title=f'Distribution of {column} in {dataset}',\n",
    "                    template='plotly_white'\n",
    "                )\n",
    "                fig.show()\n",
    "\n",
    "            elif view == 'Box Plot':\n",
    "                fig = px.box(\n",
    "                    dfs_avg[int(dataset.split()[-1])-1],\n",
    "                    y=column,\n",
    "                    title=f'Box Plot of {column} in {dataset}',\n",
    "                    template='plotly_white'\n",
    "                )\n",
    "                fig.show()\n",
    "\n",
    "            elif view == 'Violin Plot':\n",
    "                fig = px.violin(\n",
    "                    dfs_avg[int(dataset.split()[-1])-1],\n",
    "                    y=column,\n",
    "                    box=True,\n",
    "                    title=f'Violin Plot of {column} in {dataset}',\n",
    "                    template='plotly_white'\n",
    "                )\n",
    "                fig.show()\n",
    "\n",
    "            elif view == 'Compare Datasets':\n",
    "                fig = go.Figure()\n",
    "                for i, df_name in enumerate([f'Dataset {j+1}' for j in range(len(dfs_avg))]):\n",
    "                    if column in dfs_avg[i].columns:\n",
    "                        data = dfs_avg[i][column].dropna()\n",
    "                        if not data.empty:\n",
    "                            fig.add_trace(go.Violin(\n",
    "                                y=data,\n",
    "                                name=df_name,\n",
    "                                box_visible=True,\n",
    "                                meanline_visible=True\n",
    "                            ))\n",
    "\n",
    "                fig.update_layout(\n",
    "                    title=f'Comparison of {column} Across Datasets',\n",
    "                    template='plotly_white',\n",
    "                    xaxis_title='Dataset',\n",
    "                    yaxis_title=column\n",
    "                )\n",
    "                fig.show()\n",
    "\n",
    "    dataset_dropdown.observe(update_view, 'value')\n",
    "    column_dropdown.observe(update_view, 'value')\n",
    "    view_type.observe(update_view, 'value')\n",
    "\n",
    "    controls = widgets.VBox([\n",
    "        widgets.HTML(\"<h2>Statistical Distribution Dashboard</h2>\"),\n",
    "        dataset_dropdown,\n",
    "        column_dropdown,\n",
    "        view_type\n",
    "    ])\n",
    "\n",
    "    dashboard = widgets.HBox([controls, output])\n",
    "    display(dashboard)\n",
    "\n",
    "    update_view()"
   ]
  },
  {
   "cell_type": "code",
   "execution_count": null,
   "id": "3ae59349",
   "metadata": {},
   "outputs": [
    {
     "data": {
      "application/vnd.jupyter.widget-view+json": {
       "model_id": "131967053d0242f8b0d85998d5fa3898",
       "version_major": 2,
       "version_minor": 0
      },
      "text/plain": [
       "HBox(children=(VBox(children=(HTML(value='<h2>Statistical Distribution Dashboard</h2>'), Dropdown(description=…"
      ]
     },
     "metadata": {},
     "output_type": "display_data"
    }
   ],
   "source": [
    "create_interactive_dashboard(dfs_avg, dfs_max, bins, bin_labels)"
   ]
  },
  {
   "cell_type": "markdown",
   "id": "874925d1",
   "metadata": {},
   "source": [
    "## Coverage Visualization:\n"
   ]
  },
  {
   "cell_type": "code",
   "execution_count": null,
   "id": "ef2f5625",
   "metadata": {},
   "outputs": [],
   "source": [
    "def create_interactive_grid_plots(num_datasets, dfs_avg, dfs_max, show_repeaters=False, repeater_locations=None):\n",
    "    if num_datasets > len(dfs_avg) or num_datasets > len(dfs_max):\n",
    "        raise ValueError(\n",
    "            \"num_datasets exceeds the number of provided DataFrames.\")\n",
    "\n",
    "    if show_repeaters and repeater_locations:\n",
    "        if len(repeater_locations) != num_datasets:\n",
    "            print(\n",
    "                f\"Warning: repeater_locations has {len(repeater_locations)} datasets but {num_datasets} datasets were specified.\")\n",
    "            # Fill with empty arrays if needed\n",
    "            if len(repeater_locations) < num_datasets:\n",
    "                repeater_locations.extend(\n",
    "                    [[] for _ in range(num_datasets - len(repeater_locations))])\n",
    "\n",
    "    dataset_names = [f'Dataset {i+1}' for i in range(num_datasets)]\n",
    "\n",
    "    metric_dropdown = widgets.Dropdown(\n",
    "        options=['RSSI (dBm)', 'TCP Upload Speed (Mbps)',\n",
    "                 'TCP Upload QoS (%)', 'TCP Round Trip Time (ms)'],\n",
    "        value='RSSI (dBm)',\n",
    "        description='Metric:',\n",
    "        style={'description_width': 'initial'},\n",
    "        layout=widgets.Layout(width='50%')\n",
    "    )\n",
    "\n",
    "    data_type_toggle = widgets.ToggleButtons(\n",
    "        options=['Average', 'Maximum'],\n",
    "        value='Average',\n",
    "        description='Data Type:',\n",
    "        button_style='',\n",
    "        tooltips=['Show average values', 'Show maximum values'],\n",
    "        style={'description_width': 'initial'},\n",
    "        layout=widgets.Layout(width='40%')\n",
    "    )\n",
    "\n",
    "    dataset_dropdown = widgets.Dropdown(\n",
    "        options=[f'Dataset {i+1}' for i in range(num_datasets)],\n",
    "        value=f'Dataset 1',\n",
    "        description='Dataset:',\n",
    "        style={'description_width': 'initial'},\n",
    "        layout=widgets.Layout(width='50%')\n",
    "    )\n",
    "\n",
    "    plot_output = widgets.Output()\n",
    "\n",
    "    bin_labels = {\n",
    "        'RSSI (dBm)': ['Poor', 'Okay', 'Fair', 'Good'],\n",
    "        'TCP Upload Speed (Mbps)': ['Poor', 'Usable', 'Okay', 'Fair', 'Good'],\n",
    "        'TCP Upload QoS (%)': ['Poor', 'Okay', 'Fair', 'Good'],\n",
    "        'TCP Round Trip Time (ms)': ['Good', 'Fair', 'Okay', 'Poor']\n",
    "    }\n",
    "\n",
    "    def create_grid_plot(df, metric, dataset_index):\n",
    "        current_labels = bin_labels[metric]\n",
    "        color_map = {}\n",
    "\n",
    "        # Standard colors (red to green)\n",
    "        # Red, Orange, Yellow, Light Green, Forest Green\n",
    "        standard_colors = ['#FF0000', '#FFA500',\n",
    "                           '#FFFF00', '#90EE90', '#228B22']\n",
    "\n",
    "        # For RTT, we need to invert the colors since lower values are better\n",
    "        if metric == 'TCP Round Trip Time (ms)':\n",
    "            colors = standard_colors[::-1]\n",
    "        else:\n",
    "            colors = standard_colors\n",
    "\n",
    "        for i, label in enumerate(current_labels):\n",
    "            if i < len(colors):\n",
    "                color_map[label] = colors[i]\n",
    "\n",
    "        color_map['Missing'] = 'lightgrey'\n",
    "\n",
    "        sorted_quad_numbers = sorted(quad_numbers)\n",
    "\n",
    "        grid_data = pd.DataFrame(\n",
    "            index=sorted_quad_numbers, columns=aisle_numbers)\n",
    "        grid_categories = pd.DataFrame(\n",
    "            index=sorted_quad_numbers, columns=aisle_numbers)\n",
    "\n",
    "        total_cells = len(sorted_quad_numbers) * len(aisle_numbers)\n",
    "        missing_cells = 0\n",
    "\n",
    "        for aisle in aisle_numbers:\n",
    "            for quad in sorted_quad_numbers:\n",
    "                subset = df[(df['Aisle Number'] == aisle)\n",
    "                            & (df['Quad Number'] == quad)]\n",
    "\n",
    "                if not subset.empty and subset['isDataPresent'].any():\n",
    "                    valid_subset = subset[subset['isDataPresent']]\n",
    "                    if not valid_subset.empty:\n",
    "                        value = valid_subset[metric].mean()\n",
    "                        grid_data.loc[quad, aisle] = value\n",
    "\n",
    "                        try:\n",
    "                            categories = pd.cut(\n",
    "                                [value], bins=bins[metric], labels=current_labels, right=False)\n",
    "                            grid_categories.loc[quad, aisle] = categories[0]\n",
    "                        except:\n",
    "                            grid_categories.loc[quad, aisle] = 'Missing'\n",
    "                            missing_cells += 1\n",
    "                    else:\n",
    "                        grid_data.loc[quad, aisle] = np.nan\n",
    "                        grid_categories.loc[quad, aisle] = 'Missing'\n",
    "                        missing_cells += 1\n",
    "                else:\n",
    "                    grid_data.loc[quad, aisle] = np.nan\n",
    "                    grid_categories.loc[quad, aisle] = 'Missing'\n",
    "                    missing_cells += 1\n",
    "\n",
    "        print(f\"Total cells: {total_cells}, Missing cells: {missing_cells}\")\n",
    "\n",
    "        color_matrix = []\n",
    "        for quad in sorted_quad_numbers:\n",
    "            row = []\n",
    "            for aisle in aisle_numbers:\n",
    "                category = grid_categories.loc[quad, aisle]\n",
    "                row.append(color_map.get(category, 'lightgrey'))\n",
    "            color_matrix.append(row)\n",
    "\n",
    "        text_matrix = []\n",
    "        z_matrix = []\n",
    "\n",
    "        for i, quad in enumerate(sorted_quad_numbers):\n",
    "            text_row = []\n",
    "            z_row = []\n",
    "            for j, aisle in enumerate(aisle_numbers):\n",
    "                value = grid_data.loc[quad, aisle]\n",
    "                category = grid_categories.loc[quad, aisle]\n",
    "\n",
    "                z_row.append(value if not pd.isna(value) else None)\n",
    "\n",
    "                if pd.isna(value):\n",
    "                    text_row.append(\"No data available\")\n",
    "                else:\n",
    "                    text_row.append(f\"{value:.2f}<br>{category}\")\n",
    "\n",
    "            text_matrix.append(text_row)\n",
    "            z_matrix.append(z_row)\n",
    "\n",
    "        fig = go.Figure()\n",
    "\n",
    "        heatmap = go.Heatmap(\n",
    "            z=z_matrix,\n",
    "            x=aisle_numbers,\n",
    "            y=sorted_quad_numbers,\n",
    "            colorscale=[[0, 'rgba(0,0,0,0)'], [1, 'rgba(0,0,0,0)']],\n",
    "            showscale=False,\n",
    "            text=text_matrix,\n",
    "            hoverinfo='text',\n",
    "            hovertemplate='Aisle: %{x}<br>Quad: %{y}<br>%{text}<extra></extra>'\n",
    "        )\n",
    "        fig.add_trace(heatmap)\n",
    "\n",
    "        for i, quad in enumerate(sorted_quad_numbers):\n",
    "            for j, aisle in enumerate(aisle_numbers):\n",
    "                fig.add_shape(\n",
    "                    type=\"rect\",\n",
    "                    x0=j-0.5, y0=i-0.5,\n",
    "                    x1=j+0.5, y1=i+0.5,\n",
    "                    xref=\"x\", yref=\"y\",\n",
    "                    fillcolor=color_matrix[i][j],\n",
    "                    line=dict(width=1, color=\"white\"),\n",
    "                )\n",
    "\n",
    "        # Add repeaters to the plot if enabled and dataset has repeater locations\n",
    "        if show_repeaters and repeater_locations and dataset_index < len(repeater_locations):\n",
    "            dataset_repeaters = repeater_locations[dataset_index]\n",
    "            for aisle, quad in dataset_repeaters:\n",
    "                j = aisle_numbers.index(\n",
    "                    aisle) if aisle in aisle_numbers else None\n",
    "                i = sorted_quad_numbers.index(\n",
    "                    quad) if quad in sorted_quad_numbers else None\n",
    "\n",
    "                if i is not None and j is not None:\n",
    "                    fig.add_annotation(\n",
    "                        x=j, y=i,\n",
    "                        text=\"R\",\n",
    "                        showarrow=False,\n",
    "                        font=dict(size=20, color=\"#006400\"),\n",
    "                        xanchor=\"center\",\n",
    "                        yanchor=\"middle\"\n",
    "                    )\n",
    "\n",
    "        # Add legend entries only for the current metric's categories plus 'Missing'\n",
    "        legend_data = []\n",
    "        for category in current_labels:\n",
    "            legend_data.append(\n",
    "                go.Scatter(\n",
    "                    x=[None],\n",
    "                    y=[None],\n",
    "                    mode='markers',\n",
    "                    marker=dict(size=10, color=color_map[category]),\n",
    "                    name=category,\n",
    "                    showlegend=True\n",
    "                )\n",
    "            )\n",
    "        legend_data.append(\n",
    "            go.Scatter(\n",
    "                x=[None],\n",
    "                y=[None],\n",
    "                mode='markers',\n",
    "                marker=dict(size=10, color=color_map['Missing']),\n",
    "                name='Missing',\n",
    "                showlegend=True\n",
    "            )\n",
    "        )\n",
    "\n",
    "        # Add repeater legend entry if repeaters are shown for this dataset\n",
    "        if (show_repeaters and repeater_locations and\n",
    "            dataset_index < len(repeater_locations) and\n",
    "                len(repeater_locations[dataset_index]) > 0):\n",
    "            legend_data.append(\n",
    "                go.Scatter(\n",
    "                    x=[None],\n",
    "                    y=[None],\n",
    "                    mode='markers+text',\n",
    "                    text=['R'],\n",
    "                    textfont=dict(color='#006400', size=16),\n",
    "                    marker=dict(size=10, color='rgba(0,0,0,0)'),\n",
    "                    name='Repeater',\n",
    "                    showlegend=True\n",
    "                )\n",
    "            )\n",
    "\n",
    "        for trace in legend_data:\n",
    "            fig.add_trace(trace)\n",
    "\n",
    "        # Reverse the y-axis to show quad 1 at the top and quad 8 at the bottom\n",
    "        fig.update_layout(\n",
    "            title=f\"{metric} - {dataset_dropdown.value} ({data_type_toggle.value})\",\n",
    "            xaxis=dict(\n",
    "                title='Aisle Number',\n",
    "                tickmode='array',\n",
    "                tickvals=list(range(len(aisle_numbers))),\n",
    "                ticktext=aisle_numbers,\n",
    "                showgrid=True\n",
    "            ),\n",
    "            yaxis=dict(\n",
    "                title='Quad Number',\n",
    "                tickmode='array',\n",
    "                tickvals=list(range(len(sorted_quad_numbers))),\n",
    "                ticktext=sorted_quad_numbers,\n",
    "                showgrid=True,\n",
    "                autorange=\"reversed\"\n",
    "            ),\n",
    "            height=600,\n",
    "            width=800,\n",
    "            xaxis_side=\"top\",\n",
    "            legend_title=\"Category\"\n",
    "        )\n",
    "\n",
    "        return fig\n",
    "\n",
    "    def update_plot(metric=None, data_type=None, dataset_name=None):\n",
    "        if metric is None:\n",
    "            metric = metric_dropdown.value\n",
    "        if data_type is None:\n",
    "            data_type = data_type_toggle.value\n",
    "        if dataset_name is None:\n",
    "            dataset_name = dataset_dropdown.value\n",
    "\n",
    "        try:\n",
    "            dataset_index = int(dataset_name.split()[-1]) - 1\n",
    "\n",
    "            if data_type == 'Average':\n",
    "                df = dfs_avg[dataset_index]\n",
    "            else:\n",
    "                df = dfs_max[dataset_index]\n",
    "\n",
    "            grid_plot = create_grid_plot(df, metric, dataset_index)\n",
    "\n",
    "            plot_output.clear_output(wait=True)\n",
    "            with plot_output:\n",
    "                display(grid_plot)\n",
    "        except Exception as e:\n",
    "            plot_output.clear_output(wait=True)\n",
    "            with plot_output:\n",
    "                print(f\"Error rendering plot: {str(e)}\")\n",
    "                import traceback\n",
    "                traceback.print_exc()\n",
    "\n",
    "    def on_change(change):\n",
    "        update_plot(metric_dropdown.value, data_type_toggle.value,\n",
    "                    dataset_dropdown.value)\n",
    "\n",
    "    metric_dropdown.observe(on_change, names='value')\n",
    "    data_type_toggle.observe(on_change, names='value')\n",
    "    dataset_dropdown.observe(on_change, names='value')\n",
    "\n",
    "    controls = widgets.HBox(\n",
    "        [metric_dropdown, data_type_toggle, dataset_dropdown])\n",
    "    dashboard = widgets.VBox([controls, plot_output])\n",
    "\n",
    "    update_plot()\n",
    "\n",
    "    return dashboard"
   ]
  },
  {
   "cell_type": "code",
   "execution_count": 22,
   "id": "becf8d54",
   "metadata": {},
   "outputs": [
    {
     "name": "stdout",
     "output_type": "stream",
     "text": [
      "Total cells: 64, Missing cells: 0\n"
     ]
    },
    {
     "data": {
      "application/vnd.jupyter.widget-view+json": {
       "model_id": "e66ceb7d13464cc8981075105f94d4a7",
       "version_major": 2,
       "version_minor": 0
      },
      "text/plain": [
       "VBox(children=(HBox(children=(Dropdown(description='Metric:', layout=Layout(width='50%'), options=('RSSI (dBm)…"
      ]
     },
     "metadata": {},
     "output_type": "display_data"
    }
   ],
   "source": [
    "plot_output = widgets.Output()\n",
    "\n",
    "num_datasets = 3\n",
    "dfs_avg = [df_avg1, df_avg2, df_avg3]\n",
    "dfs_max = [df_max1, df_max2, df_max3]\n",
    "\n",
    "\n",
    "interactive_grid = create_interactive_grid_plots(\n",
    "    num_datasets, dfs_avg, dfs_max)\n",
    "\n",
    "display(interactive_grid)"
   ]
  },
  {
   "cell_type": "markdown",
   "id": "cdf43b99",
   "metadata": {},
   "source": [
    "### Comparative Analysis:\n",
    "\n",
    "We will compare the scores of two approaches for each dataset. The score is calculated by summing the weighted features, where the weights are provided by the organizers. The features are evaluated based on their **Fair+Good** percentage, with the following weights:\n",
    "\n",
    "- **(RSSI Fair+Good)** \\* 40%\n",
    "- **(TCP Upload Speed Fair+Good)** \\* 40%\n",
    "- **(TCP Upload QoS Fair+Good)** \\* 10%\n",
    "- **(TCP RTT Fair+Good)** \\* 10%\n",
    "\n",
    "The score calculation for each approach involves evaluating the performance of the datasets based on these metrics. The **Best Score** is calculated using only the \"Good\" percentages for each feature, providing a comparison for optimal performance.\n",
    "\n",
    "Adjustments were made to the score calculation due to the dataset's lack of \"Not Poor\" values and multiple \"Fair\" labels. \"Fair\" now represents the second-best rating, and the **Best Score** was introduced to evaluate the maximum performance in each case.\n"
   ]
  },
  {
   "cell_type": "markdown",
   "id": "b569a263",
   "metadata": {},
   "source": [
    "From earlier EDA we saw that there are very few samples where the rating is poor. So, I will calculate the score based on the following formula where I can take the second best rating or better to calculate the score\n"
   ]
  },
  {
   "cell_type": "code",
   "execution_count": 23,
   "id": "5fe9d481",
   "metadata": {},
   "outputs": [],
   "source": [
    "def create_summary_table(num_datasets, avg_dfs, max_dfs):\n",
    "    def calculate_score(df):\n",
    "        df = df.copy()\n",
    "        df[\"RSSI Score\"] = df[\"RSSI (dBm)\"].apply(\n",
    "            lambda x: 1 if x >= -96 else 0)\n",
    "        df[\"Speed Score\"] = df[\"TCP Upload Speed (Mbps)\"].apply(\n",
    "            lambda x: 1 if x >= 15 else 0)\n",
    "        df[\"QoS Score\"] = df[\"TCP Upload QoS (%)\"].apply(\n",
    "            lambda x: 1 if x >= 50 else 0)\n",
    "        df[\"RTT Score\"] = df[\"TCP Round Trip Time (ms)\"].apply(\n",
    "            lambda x: 1 if x <= 100 else 0)\n",
    "\n",
    "        df[\"RSSI Best Score\"] = df['RSSI (dBm)'].apply(\n",
    "            lambda x: 1 if x >= -86 else 0)\n",
    "        df[\"Speed Best Score\"] = df['TCP Upload Speed (Mbps)'].apply(\n",
    "            lambda x: 1 if x >= 30 else 0)\n",
    "        df[\"QoS Best Score\"] = df['TCP Upload QoS (%)'].apply(\n",
    "            lambda x: 1 if x >= 70 else 0)\n",
    "        df[\"RTT Best Score\"] = df['TCP Round Trip Time (ms)'].apply(\n",
    "            lambda x: 1 if x <= 50 else 0)\n",
    "\n",
    "        return df\n",
    "\n",
    "    data = []\n",
    "    index = []\n",
    "\n",
    "    for i in range(num_datasets):\n",
    "        dataset_name = f\"Dataset {i+1}\"\n",
    "        df_avg = calculate_score(avg_dfs[i].copy())\n",
    "        df_max = calculate_score(max_dfs[i].copy())\n",
    "\n",
    "        avg_row = [\n",
    "            df_avg[\"RSSI Score\"].mean(), df_avg[\"RSSI Best Score\"].mean(),\n",
    "            df_avg[\"Speed Score\"].mean(), df_avg[\"Speed Best Score\"].mean(),\n",
    "            df_avg[\"QoS Score\"].mean(), df_avg[\"QoS Best Score\"].mean(),\n",
    "            df_avg[\"RTT Score\"].mean(), df_avg[\"RTT Best Score\"].mean()\n",
    "        ]\n",
    "        weighted_avg_score = (\n",
    "            avg_row[0] * 0.4 + avg_row[2] * 0.4 + avg_row[4] * 0.1 + avg_row[6] * 0.1)\n",
    "        weighted_best_score = (\n",
    "            avg_row[1] * 0.4 + avg_row[3] * 0.4 + avg_row[5] * 0.1 + avg_row[7] * 0.1)\n",
    "        avg_row.extend([weighted_avg_score, weighted_best_score])\n",
    "\n",
    "        max_row = [\n",
    "            df_max[\"RSSI Score\"].mean(), df_max[\"RSSI Best Score\"].mean(),\n",
    "            df_max[\"Speed Score\"].mean(), df_max[\"Speed Best Score\"].mean(),\n",
    "            df_max[\"QoS Score\"].mean(), df_max[\"QoS Best Score\"].mean(),\n",
    "            df_max[\"RTT Score\"].mean(), df_max[\"RTT Best Score\"].mean()\n",
    "        ]\n",
    "        weighted_avg_score = (\n",
    "            max_row[0] * 0.4 + max_row[2] * 0.4 + max_row[4] * 0.1 + max_row[6] * 0.1)\n",
    "        weighted_best_score = (\n",
    "            max_row[1] * 0.4 + max_row[3] * 0.4 + max_row[5] * 0.1 + max_row[7] * 0.1)\n",
    "        max_row.extend([weighted_avg_score, weighted_best_score])\n",
    "\n",
    "        data.extend([avg_row, max_row])\n",
    "        index.extend([(dataset_name, \"Average\"), (dataset_name, \"Maximum\")])\n",
    "\n",
    "    columns = [\"Mean RSSI Score\", \"Mean RSSI Best Score\", \"Mean Speed Score\", \"Mean Speed Best Score\",\n",
    "               \"Mean QoS Score\", \"Mean QoS Best Score\", \"Mean RTT Score\", \"Mean RTT Best Score\",\n",
    "               \"Weighted Score\", \"Weighted Best Score\"]\n",
    "    index = pd.MultiIndex.from_tuples(index, names=['Dataset', 'Type'])\n",
    "    df = pd.DataFrame(data, index=index, columns=columns)\n",
    "\n",
    "    return df"
   ]
  },
  {
   "cell_type": "code",
   "execution_count": 24,
   "id": "e5d9ecc2",
   "metadata": {},
   "outputs": [
    {
     "data": {
      "text/html": [
       "<style type=\"text/css\">\n",
       "#T_4a5e1_row0_col0 {\n",
       "  background-color: #5ba3d0;\n",
       "  color: #f1f1f1;\n",
       "}\n",
       "#T_4a5e1_row0_col1, #T_4a5e1_row0_col3, #T_4a5e1_row2_col7, #T_4a5e1_row4_col3 {\n",
       "  background-color: #f7fbff;\n",
       "  color: #000000;\n",
       "}\n",
       "#T_4a5e1_row0_col2 {\n",
       "  background-color: #08509b;\n",
       "  color: #f1f1f1;\n",
       "}\n",
       "#T_4a5e1_row0_col4, #T_4a5e1_row0_col6, #T_4a5e1_row1_col4, #T_4a5e1_row1_col6, #T_4a5e1_row2_col6, #T_4a5e1_row3_col6 {\n",
       "  background-color: #08306b;\n",
       "  color: #f1f1f1;\n",
       "}\n",
       "#T_4a5e1_row0_col5 {\n",
       "  background-color: #084082;\n",
       "  color: #f1f1f1;\n",
       "}\n",
       "#T_4a5e1_row0_col7 {\n",
       "  background-color: #71b1d7;\n",
       "  color: #f1f1f1;\n",
       "}\n",
       "#T_4a5e1_row0_col8, #T_4a5e1_row2_col8, #T_4a5e1_row4_col5 {\n",
       "  background-color: #1d6cb1;\n",
       "  color: #f1f1f1;\n",
       "}\n",
       "#T_4a5e1_row0_col9 {\n",
       "  background-color: #dbe9f6;\n",
       "  color: #000000;\n",
       "}\n",
       "#T_4a5e1_row1_col0, #T_4a5e1_row1_col5 {\n",
       "  background-color: #08488e;\n",
       "  color: #f1f1f1;\n",
       "}\n",
       "#T_4a5e1_row1_col1, #T_4a5e1_row4_col7 {\n",
       "  background-color: #eaf3fb;\n",
       "  color: #000000;\n",
       "}\n",
       "#T_4a5e1_row1_col2, #T_4a5e1_row3_col4 {\n",
       "  background-color: #083370;\n",
       "  color: #f1f1f1;\n",
       "}\n",
       "#T_4a5e1_row1_col3, #T_4a5e1_row5_col1 {\n",
       "  background-color: #c1d9ed;\n",
       "  color: #000000;\n",
       "}\n",
       "#T_4a5e1_row1_col7 {\n",
       "  background-color: #519ccc;\n",
       "  color: #f1f1f1;\n",
       "}\n",
       "#T_4a5e1_row1_col8 {\n",
       "  background-color: #083b7c;\n",
       "  color: #f1f1f1;\n",
       "}\n",
       "#T_4a5e1_row1_col9 {\n",
       "  background-color: #bdd7ec;\n",
       "  color: #000000;\n",
       "}\n",
       "#T_4a5e1_row2_col0, #T_4a5e1_row3_col0 {\n",
       "  background-color: #115ca5;\n",
       "  color: #f1f1f1;\n",
       "}\n",
       "#T_4a5e1_row2_col1, #T_4a5e1_row3_col7 {\n",
       "  background-color: #d2e3f3;\n",
       "  color: #000000;\n",
       "}\n",
       "#T_4a5e1_row2_col2 {\n",
       "  background-color: #4b98ca;\n",
       "  color: #f1f1f1;\n",
       "}\n",
       "#T_4a5e1_row2_col3, #T_4a5e1_row4_col9 {\n",
       "  background-color: #deebf7;\n",
       "  color: #000000;\n",
       "}\n",
       "#T_4a5e1_row2_col4, #T_4a5e1_row4_col4, #T_4a5e1_row4_col6, #T_4a5e1_row5_col4, #T_4a5e1_row5_col6 {\n",
       "  background-color: #083776;\n",
       "  color: #f1f1f1;\n",
       "}\n",
       "#T_4a5e1_row2_col5, #T_4a5e1_row4_col0 {\n",
       "  background-color: #0e58a2;\n",
       "  color: #f1f1f1;\n",
       "}\n",
       "#T_4a5e1_row2_col9 {\n",
       "  background-color: #cee0f2;\n",
       "  color: #000000;\n",
       "}\n",
       "#T_4a5e1_row3_col1 {\n",
       "  background-color: #a8cee4;\n",
       "  color: #000000;\n",
       "}\n",
       "#T_4a5e1_row3_col2 {\n",
       "  background-color: #3989c1;\n",
       "  color: #f1f1f1;\n",
       "}\n",
       "#T_4a5e1_row3_col3 {\n",
       "  background-color: #b2d2e8;\n",
       "  color: #000000;\n",
       "}\n",
       "#T_4a5e1_row3_col5, #T_4a5e1_row5_col0 {\n",
       "  background-color: #084488;\n",
       "  color: #f1f1f1;\n",
       "}\n",
       "#T_4a5e1_row3_col8 {\n",
       "  background-color: #1966ad;\n",
       "  color: #f1f1f1;\n",
       "}\n",
       "#T_4a5e1_row3_col9 {\n",
       "  background-color: #9fcae1;\n",
       "  color: #000000;\n",
       "}\n",
       "#T_4a5e1_row4_col1 {\n",
       "  background-color: #e1edf8;\n",
       "  color: #000000;\n",
       "}\n",
       "#T_4a5e1_row4_col2 {\n",
       "  background-color: #91c3de;\n",
       "  color: #000000;\n",
       "}\n",
       "#T_4a5e1_row4_col8 {\n",
       "  background-color: #3080bd;\n",
       "  color: #f1f1f1;\n",
       "}\n",
       "#T_4a5e1_row5_col2 {\n",
       "  background-color: #2474b7;\n",
       "  color: #f1f1f1;\n",
       "}\n",
       "#T_4a5e1_row5_col3 {\n",
       "  background-color: #eef5fc;\n",
       "  color: #000000;\n",
       "}\n",
       "#T_4a5e1_row5_col5 {\n",
       "  background-color: #4695c8;\n",
       "  color: #f1f1f1;\n",
       "}\n",
       "#T_4a5e1_row5_col7 {\n",
       "  background-color: #add0e6;\n",
       "  color: #000000;\n",
       "}\n",
       "#T_4a5e1_row5_col8 {\n",
       "  background-color: #0b559f;\n",
       "  color: #f1f1f1;\n",
       "}\n",
       "#T_4a5e1_row5_col9 {\n",
       "  background-color: #ccdff1;\n",
       "  color: #000000;\n",
       "}\n",
       "</style>\n",
       "<table id=\"T_4a5e1\">\n",
       "  <thead>\n",
       "    <tr>\n",
       "      <th class=\"blank\" >&nbsp;</th>\n",
       "      <th class=\"blank level0\" >&nbsp;</th>\n",
       "      <th id=\"T_4a5e1_level0_col0\" class=\"col_heading level0 col0\" >Mean RSSI Score</th>\n",
       "      <th id=\"T_4a5e1_level0_col1\" class=\"col_heading level0 col1\" >Mean RSSI Best Score</th>\n",
       "      <th id=\"T_4a5e1_level0_col2\" class=\"col_heading level0 col2\" >Mean Speed Score</th>\n",
       "      <th id=\"T_4a5e1_level0_col3\" class=\"col_heading level0 col3\" >Mean Speed Best Score</th>\n",
       "      <th id=\"T_4a5e1_level0_col4\" class=\"col_heading level0 col4\" >Mean QoS Score</th>\n",
       "      <th id=\"T_4a5e1_level0_col5\" class=\"col_heading level0 col5\" >Mean QoS Best Score</th>\n",
       "      <th id=\"T_4a5e1_level0_col6\" class=\"col_heading level0 col6\" >Mean RTT Score</th>\n",
       "      <th id=\"T_4a5e1_level0_col7\" class=\"col_heading level0 col7\" >Mean RTT Best Score</th>\n",
       "      <th id=\"T_4a5e1_level0_col8\" class=\"col_heading level0 col8\" >Weighted Score</th>\n",
       "      <th id=\"T_4a5e1_level0_col9\" class=\"col_heading level0 col9\" >Weighted Best Score</th>\n",
       "    </tr>\n",
       "    <tr>\n",
       "      <th class=\"index_name level0\" >Dataset</th>\n",
       "      <th class=\"index_name level1\" >Type</th>\n",
       "      <th class=\"blank col0\" >&nbsp;</th>\n",
       "      <th class=\"blank col1\" >&nbsp;</th>\n",
       "      <th class=\"blank col2\" >&nbsp;</th>\n",
       "      <th class=\"blank col3\" >&nbsp;</th>\n",
       "      <th class=\"blank col4\" >&nbsp;</th>\n",
       "      <th class=\"blank col5\" >&nbsp;</th>\n",
       "      <th class=\"blank col6\" >&nbsp;</th>\n",
       "      <th class=\"blank col7\" >&nbsp;</th>\n",
       "      <th class=\"blank col8\" >&nbsp;</th>\n",
       "      <th class=\"blank col9\" >&nbsp;</th>\n",
       "    </tr>\n",
       "  </thead>\n",
       "  <tbody>\n",
       "    <tr>\n",
       "      <th id=\"T_4a5e1_level0_row0\" class=\"row_heading level0 row0\" rowspan=\"2\">Dataset 1</th>\n",
       "      <th id=\"T_4a5e1_level1_row0\" class=\"row_heading level1 row0\" >Average</th>\n",
       "      <td id=\"T_4a5e1_row0_col0\" class=\"data row0 col0\" >0.546875</td>\n",
       "      <td id=\"T_4a5e1_row0_col1\" class=\"data row0 col1\" >0.000000</td>\n",
       "      <td id=\"T_4a5e1_row0_col2\" class=\"data row0 col2\" >0.875000</td>\n",
       "      <td id=\"T_4a5e1_row0_col3\" class=\"data row0 col3\" >0.000000</td>\n",
       "      <td id=\"T_4a5e1_row0_col4\" class=\"data row0 col4\" >1.000000</td>\n",
       "      <td id=\"T_4a5e1_row0_col5\" class=\"data row0 col5\" >0.937500</td>\n",
       "      <td id=\"T_4a5e1_row0_col6\" class=\"data row0 col6\" >1.000000</td>\n",
       "      <td id=\"T_4a5e1_row0_col7\" class=\"data row0 col7\" >0.484375</td>\n",
       "      <td id=\"T_4a5e1_row0_col8\" class=\"data row0 col8\" >0.768750</td>\n",
       "      <td id=\"T_4a5e1_row0_col9\" class=\"data row0 col9\" >0.142187</td>\n",
       "    </tr>\n",
       "    <tr>\n",
       "      <th id=\"T_4a5e1_level1_row1\" class=\"row_heading level1 row1\" >Maximum</th>\n",
       "      <td id=\"T_4a5e1_row1_col0\" class=\"data row1 col0\" >0.906250</td>\n",
       "      <td id=\"T_4a5e1_row1_col1\" class=\"data row1 col1\" >0.062500</td>\n",
       "      <td id=\"T_4a5e1_row1_col2\" class=\"data row1 col2\" >0.984375</td>\n",
       "      <td id=\"T_4a5e1_row1_col3\" class=\"data row1 col3\" >0.265625</td>\n",
       "      <td id=\"T_4a5e1_row1_col4\" class=\"data row1 col4\" >1.000000</td>\n",
       "      <td id=\"T_4a5e1_row1_col5\" class=\"data row1 col5\" >0.906250</td>\n",
       "      <td id=\"T_4a5e1_row1_col6\" class=\"data row1 col6\" >1.000000</td>\n",
       "      <td id=\"T_4a5e1_row1_col7\" class=\"data row1 col7\" >0.578125</td>\n",
       "      <td id=\"T_4a5e1_row1_col8\" class=\"data row1 col8\" >0.956250</td>\n",
       "      <td id=\"T_4a5e1_row1_col9\" class=\"data row1 col9\" >0.279688</td>\n",
       "    </tr>\n",
       "    <tr>\n",
       "      <th id=\"T_4a5e1_level0_row2\" class=\"row_heading level0 row2\" rowspan=\"2\">Dataset 2</th>\n",
       "      <th id=\"T_4a5e1_level1_row2\" class=\"row_heading level1 row2\" >Average</th>\n",
       "      <td id=\"T_4a5e1_row2_col0\" class=\"data row2 col0\" >0.828125</td>\n",
       "      <td id=\"T_4a5e1_row2_col1\" class=\"data row2 col1\" >0.187500</td>\n",
       "      <td id=\"T_4a5e1_row2_col2\" class=\"data row2 col2\" >0.593750</td>\n",
       "      <td id=\"T_4a5e1_row2_col3\" class=\"data row2 col3\" >0.125000</td>\n",
       "      <td id=\"T_4a5e1_row2_col4\" class=\"data row2 col4\" >0.968750</td>\n",
       "      <td id=\"T_4a5e1_row2_col5\" class=\"data row2 col5\" >0.843750</td>\n",
       "      <td id=\"T_4a5e1_row2_col6\" class=\"data row2 col6\" >1.000000</td>\n",
       "      <td id=\"T_4a5e1_row2_col7\" class=\"data row2 col7\" >0.000000</td>\n",
       "      <td id=\"T_4a5e1_row2_col8\" class=\"data row2 col8\" >0.765625</td>\n",
       "      <td id=\"T_4a5e1_row2_col9\" class=\"data row2 col9\" >0.209375</td>\n",
       "    </tr>\n",
       "    <tr>\n",
       "      <th id=\"T_4a5e1_level1_row3\" class=\"row_heading level1 row3\" >Maximum</th>\n",
       "      <td id=\"T_4a5e1_row3_col0\" class=\"data row3 col0\" >0.828125</td>\n",
       "      <td id=\"T_4a5e1_row3_col1\" class=\"data row3 col1\" >0.343750</td>\n",
       "      <td id=\"T_4a5e1_row3_col2\" class=\"data row3 col2\" >0.656250</td>\n",
       "      <td id=\"T_4a5e1_row3_col3\" class=\"data row3 col3\" >0.312500</td>\n",
       "      <td id=\"T_4a5e1_row3_col4\" class=\"data row3 col4\" >0.984375</td>\n",
       "      <td id=\"T_4a5e1_row3_col5\" class=\"data row3 col5\" >0.921875</td>\n",
       "      <td id=\"T_4a5e1_row3_col6\" class=\"data row3 col6\" >1.000000</td>\n",
       "      <td id=\"T_4a5e1_row3_col7\" class=\"data row3 col7\" >0.187500</td>\n",
       "      <td id=\"T_4a5e1_row3_col8\" class=\"data row3 col8\" >0.792187</td>\n",
       "      <td id=\"T_4a5e1_row3_col9\" class=\"data row3 col9\" >0.373438</td>\n",
       "    </tr>\n",
       "    <tr>\n",
       "      <th id=\"T_4a5e1_level0_row4\" class=\"row_heading level0 row4\" rowspan=\"2\">Dataset 3</th>\n",
       "      <th id=\"T_4a5e1_level1_row4\" class=\"row_heading level1 row4\" >Average</th>\n",
       "      <td id=\"T_4a5e1_row4_col0\" class=\"data row4 col0\" >0.843750</td>\n",
       "      <td id=\"T_4a5e1_row4_col1\" class=\"data row4 col1\" >0.109375</td>\n",
       "      <td id=\"T_4a5e1_row4_col2\" class=\"data row4 col2\" >0.406250</td>\n",
       "      <td id=\"T_4a5e1_row4_col3\" class=\"data row4 col3\" >0.000000</td>\n",
       "      <td id=\"T_4a5e1_row4_col4\" class=\"data row4 col4\" >0.968750</td>\n",
       "      <td id=\"T_4a5e1_row4_col5\" class=\"data row4 col5\" >0.765625</td>\n",
       "      <td id=\"T_4a5e1_row4_col6\" class=\"data row4 col6\" >0.968750</td>\n",
       "      <td id=\"T_4a5e1_row4_col7\" class=\"data row4 col7\" >0.062500</td>\n",
       "      <td id=\"T_4a5e1_row4_col8\" class=\"data row4 col8\" >0.693750</td>\n",
       "      <td id=\"T_4a5e1_row4_col9\" class=\"data row4 col9\" >0.126563</td>\n",
       "    </tr>\n",
       "    <tr>\n",
       "      <th id=\"T_4a5e1_level1_row5\" class=\"row_heading level1 row5\" >Maximum</th>\n",
       "      <td id=\"T_4a5e1_row5_col0\" class=\"data row5 col0\" >0.921875</td>\n",
       "      <td id=\"T_4a5e1_row5_col1\" class=\"data row5 col1\" >0.265625</td>\n",
       "      <td id=\"T_4a5e1_row5_col2\" class=\"data row5 col2\" >0.734375</td>\n",
       "      <td id=\"T_4a5e1_row5_col3\" class=\"data row5 col3\" >0.046875</td>\n",
       "      <td id=\"T_4a5e1_row5_col4\" class=\"data row5 col4\" >0.968750</td>\n",
       "      <td id=\"T_4a5e1_row5_col5\" class=\"data row5 col5\" >0.609375</td>\n",
       "      <td id=\"T_4a5e1_row5_col6\" class=\"data row5 col6\" >0.968750</td>\n",
       "      <td id=\"T_4a5e1_row5_col7\" class=\"data row5 col7\" >0.328125</td>\n",
       "      <td id=\"T_4a5e1_row5_col8\" class=\"data row5 col8\" >0.856250</td>\n",
       "      <td id=\"T_4a5e1_row5_col9\" class=\"data row5 col9\" >0.218750</td>\n",
       "    </tr>\n",
       "  </tbody>\n",
       "</table>\n"
      ],
      "text/plain": [
       "<pandas.io.formats.style.Styler at 0x1f401082f90>"
      ]
     },
     "execution_count": 24,
     "metadata": {},
     "output_type": "execute_result"
    }
   ],
   "source": [
    "num_datasets = 3\n",
    "avg_dataframes = [df_avg1, df_avg2, df_avg3]\n",
    "max_dataframes = [df_max1, df_max2, df_max3]\n",
    "\n",
    "final_df = create_summary_table(num_datasets, avg_dataframes, max_dataframes)\n",
    "\n",
    "final_df.style.background_gradient(cmap='Blues', axis=None)"
   ]
  },
  {
   "cell_type": "code",
   "execution_count": 25,
   "id": "048bef45",
   "metadata": {},
   "outputs": [
    {
     "data": {
      "text/html": [
       "<style type=\"text/css\">\n",
       "#T_4629a_row0_col0 {\n",
       "  background-color: #1c8540;\n",
       "  color: #f1f1f1;\n",
       "}\n",
       "#T_4629a_row0_col1 {\n",
       "  background-color: #f5fbf2;\n",
       "  color: #000000;\n",
       "}\n",
       "#T_4629a_row1_col0 {\n",
       "  background-color: #00441b;\n",
       "  color: #f1f1f1;\n",
       "}\n",
       "#T_4629a_row1_col1 {\n",
       "  background-color: #d7efd1;\n",
       "  color: #000000;\n",
       "}\n",
       "#T_4629a_row2_col0 {\n",
       "  background-color: #1d8640;\n",
       "  color: #f1f1f1;\n",
       "}\n",
       "#T_4629a_row2_col1 {\n",
       "  background-color: #e9f7e5;\n",
       "  color: #000000;\n",
       "}\n",
       "#T_4629a_row3_col0 {\n",
       "  background-color: #147e3a;\n",
       "  color: #f1f1f1;\n",
       "}\n",
       "#T_4629a_row3_col1 {\n",
       "  background-color: #b8e3b2;\n",
       "  color: #000000;\n",
       "}\n",
       "#T_4629a_row4_col0 {\n",
       "  background-color: #329b51;\n",
       "  color: #f1f1f1;\n",
       "}\n",
       "#T_4629a_row4_col1 {\n",
       "  background-color: #f7fcf5;\n",
       "  color: #000000;\n",
       "}\n",
       "#T_4629a_row5_col0 {\n",
       "  background-color: #006b2b;\n",
       "  color: #f1f1f1;\n",
       "}\n",
       "#T_4629a_row5_col1 {\n",
       "  background-color: #e7f6e3;\n",
       "  color: #000000;\n",
       "}\n",
       "</style>\n",
       "<table id=\"T_4629a\">\n",
       "  <thead>\n",
       "    <tr>\n",
       "      <th class=\"blank\" >&nbsp;</th>\n",
       "      <th class=\"blank level0\" >&nbsp;</th>\n",
       "      <th id=\"T_4629a_level0_col0\" class=\"col_heading level0 col0\" >Weighted Score</th>\n",
       "      <th id=\"T_4629a_level0_col1\" class=\"col_heading level0 col1\" >Weighted Best Score</th>\n",
       "    </tr>\n",
       "    <tr>\n",
       "      <th class=\"index_name level0\" >Dataset</th>\n",
       "      <th class=\"index_name level1\" >Type</th>\n",
       "      <th class=\"blank col0\" >&nbsp;</th>\n",
       "      <th class=\"blank col1\" >&nbsp;</th>\n",
       "    </tr>\n",
       "  </thead>\n",
       "  <tbody>\n",
       "    <tr>\n",
       "      <th id=\"T_4629a_level0_row0\" class=\"row_heading level0 row0\" rowspan=\"2\">Dataset 1</th>\n",
       "      <th id=\"T_4629a_level1_row0\" class=\"row_heading level1 row0\" >Average</th>\n",
       "      <td id=\"T_4629a_row0_col0\" class=\"data row0 col0\" >0.768750</td>\n",
       "      <td id=\"T_4629a_row0_col1\" class=\"data row0 col1\" >0.142187</td>\n",
       "    </tr>\n",
       "    <tr>\n",
       "      <th id=\"T_4629a_level1_row1\" class=\"row_heading level1 row1\" >Maximum</th>\n",
       "      <td id=\"T_4629a_row1_col0\" class=\"data row1 col0\" >0.956250</td>\n",
       "      <td id=\"T_4629a_row1_col1\" class=\"data row1 col1\" >0.279688</td>\n",
       "    </tr>\n",
       "    <tr>\n",
       "      <th id=\"T_4629a_level0_row2\" class=\"row_heading level0 row2\" rowspan=\"2\">Dataset 2</th>\n",
       "      <th id=\"T_4629a_level1_row2\" class=\"row_heading level1 row2\" >Average</th>\n",
       "      <td id=\"T_4629a_row2_col0\" class=\"data row2 col0\" >0.765625</td>\n",
       "      <td id=\"T_4629a_row2_col1\" class=\"data row2 col1\" >0.209375</td>\n",
       "    </tr>\n",
       "    <tr>\n",
       "      <th id=\"T_4629a_level1_row3\" class=\"row_heading level1 row3\" >Maximum</th>\n",
       "      <td id=\"T_4629a_row3_col0\" class=\"data row3 col0\" >0.792187</td>\n",
       "      <td id=\"T_4629a_row3_col1\" class=\"data row3 col1\" >0.373438</td>\n",
       "    </tr>\n",
       "    <tr>\n",
       "      <th id=\"T_4629a_level0_row4\" class=\"row_heading level0 row4\" rowspan=\"2\">Dataset 3</th>\n",
       "      <th id=\"T_4629a_level1_row4\" class=\"row_heading level1 row4\" >Average</th>\n",
       "      <td id=\"T_4629a_row4_col0\" class=\"data row4 col0\" >0.693750</td>\n",
       "      <td id=\"T_4629a_row4_col1\" class=\"data row4 col1\" >0.126563</td>\n",
       "    </tr>\n",
       "    <tr>\n",
       "      <th id=\"T_4629a_level1_row5\" class=\"row_heading level1 row5\" >Maximum</th>\n",
       "      <td id=\"T_4629a_row5_col0\" class=\"data row5 col0\" >0.856250</td>\n",
       "      <td id=\"T_4629a_row5_col1\" class=\"data row5 col1\" >0.218750</td>\n",
       "    </tr>\n",
       "  </tbody>\n",
       "</table>\n"
      ],
      "text/plain": [
       "<pandas.io.formats.style.Styler at 0x1f403ca3f50>"
      ]
     },
     "execution_count": 25,
     "metadata": {},
     "output_type": "execute_result"
    }
   ],
   "source": [
    "final_df[['Weighted Score', 'Weighted Best Score']\n",
    "         ].style.background_gradient(cmap='Greens', axis=None)"
   ]
  },
  {
   "cell_type": "code",
   "execution_count": 26,
   "id": "ae8e4cdc",
   "metadata": {},
   "outputs": [],
   "source": [
    "def interactive_score_comparison(df, height=550, width=900):\n",
    "    plot_df = df.reset_index()\n",
    "\n",
    "    fig = go.Figure()\n",
    "\n",
    "    fig.add_trace(\n",
    "        go.Bar(\n",
    "            x=plot_df[plot_df['Type'] == 'Average']['Dataset'],\n",
    "            y=plot_df[plot_df['Type'] == 'Average']['Weighted Score'],\n",
    "            name='Average Performance (Lower Standards)',\n",
    "            marker_color='#3377cc',\n",
    "            text=plot_df[plot_df['Type'] ==\n",
    "                         'Average']['Weighted Score'].round(2),\n",
    "            textposition='auto'\n",
    "        )\n",
    "    )\n",
    "\n",
    "    fig.add_trace(\n",
    "        go.Bar(\n",
    "            x=plot_df[plot_df['Type'] == 'Average']['Dataset'],\n",
    "            y=plot_df[plot_df['Type'] == 'Average']['Weighted Best Score'],\n",
    "            name='Average Performance (Higher Standards)',\n",
    "            marker_color='#ff9933',\n",
    "            text=plot_df[plot_df['Type'] ==\n",
    "                         'Average']['Weighted Best Score'].round(2),\n",
    "            textposition='auto'\n",
    "        )\n",
    "    )\n",
    "\n",
    "    fig.add_trace(\n",
    "        go.Bar(\n",
    "            x=plot_df[plot_df['Type'] == 'Maximum']['Dataset'],\n",
    "            y=plot_df[plot_df['Type'] == 'Maximum']['Weighted Score'],\n",
    "            name='Best Performance (Lower Standards)',\n",
    "            marker_color='#33cc77',\n",
    "            text=plot_df[plot_df['Type'] ==\n",
    "                         'Maximum']['Weighted Score'].round(2),\n",
    "            textposition='auto',\n",
    "            visible=False\n",
    "        )\n",
    "    )\n",
    "\n",
    "    fig.add_trace(\n",
    "        go.Bar(\n",
    "            x=plot_df[plot_df['Type'] == 'Maximum']['Dataset'],\n",
    "            y=plot_df[plot_df['Type'] == 'Maximum']['Weighted Best Score'],\n",
    "            name='Theoretical Best Performance (Higher Standards)',\n",
    "            marker_color='#ff9933',\n",
    "            text=plot_df[plot_df['Type'] ==\n",
    "                         'Maximum']['Weighted Best Score'].round(2),\n",
    "            textposition='auto',\n",
    "            visible=False\n",
    "        )\n",
    "    )\n",
    "\n",
    "    fig.update_layout(\n",
    "        title={\n",
    "            'text': 'Network Performance Comparison',\n",
    "            'font': {'size': 24}\n",
    "        },\n",
    "        xaxis_title={\n",
    "            'text': 'Dataset',\n",
    "            'font': {'size': 18}\n",
    "        },\n",
    "        yaxis_title={\n",
    "            'text': 'Score (0-1)',\n",
    "            'font': {'size': 18}\n",
    "        },\n",
    "        legend_title={\n",
    "            'text': 'Metric Type',\n",
    "            'font': {'size': 16}\n",
    "        },\n",
    "        barmode='group',\n",
    "        height=height,\n",
    "        width=width,\n",
    "        yaxis=dict(\n",
    "            range=[0, 1.05],\n",
    "            gridcolor='lightgray',\n",
    "            gridwidth=0.5,\n",
    "        ),\n",
    "        plot_bgcolor='rgba(240, 245, 250, 0.8)',\n",
    "        font=dict(\n",
    "            family=\"Arial, sans-serif\",\n",
    "            size=14\n",
    "        ),\n",
    "        hoverlabel=dict(\n",
    "            bgcolor=\"white\",\n",
    "            font_size=14,\n",
    "            font_family=\"Arial, sans-serif\"\n",
    "        ),\n",
    "        margin=dict(l=80, r=50, t=100, b=80)\n",
    "    )\n",
    "\n",
    "    fig.add_annotation(\n",
    "        xref=\"paper\", yref=\"paper\",\n",
    "        x=0.5, y=-0.15,\n",
    "        text=\"RSSI: Signal Strength | Speed: TCP Upload Speed | QoS: Quality of Service | RTT: Round Trip Time\",\n",
    "        showarrow=False,\n",
    "        font=dict(size=12, color=\"gray\"),\n",
    "        align=\"center\",\n",
    "    )\n",
    "\n",
    "    buttons = []\n",
    "\n",
    "    buttons.append(dict(\n",
    "        args=[{'visible': [True, True, False, False]}],\n",
    "        label=\"Average Performance\",\n",
    "        method=\"update\"\n",
    "    ))\n",
    "\n",
    "    buttons.append(dict(\n",
    "        args=[{'visible': [False, False, True, True]}],\n",
    "        label=\"Maximum Performance\",\n",
    "        method=\"update\"\n",
    "    ))\n",
    "\n",
    "    fig.update_layout(\n",
    "        updatemenus=[\n",
    "            dict(\n",
    "                type=\"buttons\",\n",
    "                direction=\"right\",\n",
    "                buttons=buttons,\n",
    "                pad={\"r\": 10, \"t\": 10},\n",
    "                showactive=True,\n",
    "                x=0.5,\n",
    "                xanchor=\"center\",\n",
    "                y=1.15,\n",
    "                yanchor=\"top\"\n",
    "            )\n",
    "        ]\n",
    "    )\n",
    "\n",
    "    return fig"
   ]
  },
  {
   "cell_type": "code",
   "execution_count": 27,
   "id": "fd182b40",
   "metadata": {},
   "outputs": [],
   "source": [
    "def detailed_performance_metrics(df, figsize=(14, 10), save_path=None):\n",
    "    plt.close('all')\n",
    "\n",
    "    fig, axes = plt.subplots(2, 1, figsize=figsize)\n",
    "\n",
    "    blues_cmap = LinearSegmentedColormap.from_list(\n",
    "        \"custom_blues\", [\"#ffffff\", \"#0066cc\"])\n",
    "\n",
    "    heatmap_cols = [col for col in df.columns if col.startswith(\n",
    "        'Mean') and not col.endswith('Best Score')]\n",
    "    avg_data = df.loc[(slice(None), 'Average'), heatmap_cols].droplevel(1)\n",
    "\n",
    "    avg_data.columns = [col.replace('Mean ', '').replace(\n",
    "        ' Score', '') for col in avg_data.columns]\n",
    "\n",
    "    sns.heatmap(avg_data, annot=True, cmap=blues_cmap, vmin=0, vmax=1,\n",
    "                linewidths=.5, ax=axes[0], fmt='.2f', cbar_kws={'label': 'Score'})\n",
    "    axes[0].set_title('Average Performance Metrics',\n",
    "                      fontsize=14, fontweight='bold', pad=15)\n",
    "\n",
    "    best_cols = [col for col in df.columns if col.startswith(\n",
    "        'Mean') and col.endswith('Best Score')]\n",
    "    best_data = df.loc[(slice(None), 'Maximum'), best_cols].droplevel(1)\n",
    "\n",
    "    best_data.columns = [col.replace('Mean ', '').replace(\n",
    "        ' Best Score', ' Best') for col in best_data.columns]\n",
    "\n",
    "    sns.heatmap(best_data, annot=True, cmap=blues_cmap, vmin=0, vmax=1,\n",
    "                linewidths=.5, ax=axes[1], fmt='.2f', cbar_kws={'label': 'Score'})\n",
    "    axes[1].set_title('Best Performance Metrics',\n",
    "                      fontsize=14, fontweight='bold', pad=15)\n",
    "\n",
    "    fig.suptitle('Detailed Network Performance Metrics',\n",
    "                 fontsize=16, fontweight='bold')\n",
    "\n",
    "    footer_text = (\n",
    "        \"RSSI: Signal Strength | Speed: TCP Upload Speed | \"\n",
    "        \"QoS: Quality of Service | RTT: Round Trip Time\"\n",
    "    )\n",
    "    fig.text(0.5, 0.01, footer_text, ha='center', fontsize=10, style='italic')\n",
    "\n",
    "    plt.tight_layout(rect=[0, 0.03, 1, 0.95])\n",
    "\n",
    "    if save_path:\n",
    "        plt.savefig(save_path, dpi=300, bbox_inches='tight')\n",
    "        print(f\"Visualization saved to {save_path}\")\n",
    "\n",
    "    return fig"
   ]
  },
  {
   "cell_type": "code",
   "execution_count": 28,
   "id": "21c9ea72",
   "metadata": {},
   "outputs": [
    {
     "data": {
      "application/vnd.plotly.v1+json": {
       "config": {
        "plotlyServerURL": "https://plot.ly"
       },
       "data": [
        {
         "marker": {
          "color": "#3377cc"
         },
         "name": "Average Performance (Lower Standards)",
         "text": {
          "bdata": "pHA9Ctej6D+kcD0K16PoPxSuR+F6FOY/",
          "dtype": "f8"
         },
         "textposition": "auto",
         "type": "bar",
         "x": [
          "Dataset 1",
          "Dataset 2",
          "Dataset 3"
         ],
         "y": {
          "bdata": "mpmZmZmZ6D8BAAAAAIDoPzQzMzMzM+Y/",
          "dtype": "f8"
         }
        },
        {
         "marker": {
          "color": "#ff9933"
         },
         "name": "Average Performance (Higher Standards)",
         "text": {
          "bdata": "7FG4HoXrwT/hehSuR+HKP6RwPQrXo8A/",
          "dtype": "f8"
         },
         "textposition": "auto",
         "type": "bar",
         "x": [
          "Dataset 1",
          "Dataset 2",
          "Dataset 3"
         ],
         "y": {
          "bdata": "MzMzMzMzwj/NzMzMzMzKPzQzMzMzM8A/",
          "dtype": "f8"
         }
        },
        {
         "marker": {
          "color": "#33cc77"
         },
         "name": "Best Performance (Lower Standards)",
         "text": {
          "bdata": "uB6F61G47j9I4XoUrkfpP4XrUbgehes/",
          "dtype": "f8"
         },
         "textposition": "auto",
         "type": "bar",
         "visible": false,
         "x": [
          "Dataset 1",
          "Dataset 2",
          "Dataset 3"
         ],
         "y": {
          "bdata": "mpmZmZmZ7j+ZmZmZmVnpP2hmZmZmZus/",
          "dtype": "f8"
         }
        },
        {
         "marker": {
          "color": "#ff9933"
         },
         "name": "Theoretical Best Performance (Higher Standards)",
         "text": {
          "bdata": "7FG4HoXr0T+uR+F6FK7XPylcj8L1KMw/",
          "dtype": "f8"
         },
         "textposition": "auto",
         "type": "bar",
         "visible": false,
         "x": [
          "Dataset 1",
          "Dataset 2",
          "Dataset 3"
         ],
         "y": {
          "bdata": "Z2ZmZmbm0T9nZmZmZubXPwAAAAAAAMw/",
          "dtype": "f8"
         }
        }
       ],
       "layout": {
        "annotations": [
         {
          "align": "center",
          "font": {
           "color": "gray",
           "size": 12
          },
          "showarrow": false,
          "text": "RSSI: Signal Strength | Speed: TCP Upload Speed | QoS: Quality of Service | RTT: Round Trip Time",
          "x": 0.5,
          "xref": "paper",
          "y": -0.15,
          "yref": "paper"
         }
        ],
        "barmode": "group",
        "font": {
         "family": "Arial, sans-serif",
         "size": 14
        },
        "height": 550,
        "hoverlabel": {
         "bgcolor": "white",
         "font": {
          "family": "Arial, sans-serif",
          "size": 14
         }
        },
        "legend": {
         "title": {
          "font": {
           "size": 16
          },
          "text": "Metric Type"
         }
        },
        "margin": {
         "b": 80,
         "l": 80,
         "r": 50,
         "t": 100
        },
        "plot_bgcolor": "rgba(240, 245, 250, 0.8)",
        "template": {
         "data": {
          "bar": [
           {
            "error_x": {
             "color": "#2a3f5f"
            },
            "error_y": {
             "color": "#2a3f5f"
            },
            "marker": {
             "line": {
              "color": "#E5ECF6",
              "width": 0.5
             },
             "pattern": {
              "fillmode": "overlay",
              "size": 10,
              "solidity": 0.2
             }
            },
            "type": "bar"
           }
          ],
          "barpolar": [
           {
            "marker": {
             "line": {
              "color": "#E5ECF6",
              "width": 0.5
             },
             "pattern": {
              "fillmode": "overlay",
              "size": 10,
              "solidity": 0.2
             }
            },
            "type": "barpolar"
           }
          ],
          "carpet": [
           {
            "aaxis": {
             "endlinecolor": "#2a3f5f",
             "gridcolor": "white",
             "linecolor": "white",
             "minorgridcolor": "white",
             "startlinecolor": "#2a3f5f"
            },
            "baxis": {
             "endlinecolor": "#2a3f5f",
             "gridcolor": "white",
             "linecolor": "white",
             "minorgridcolor": "white",
             "startlinecolor": "#2a3f5f"
            },
            "type": "carpet"
           }
          ],
          "choropleth": [
           {
            "colorbar": {
             "outlinewidth": 0,
             "ticks": ""
            },
            "type": "choropleth"
           }
          ],
          "contour": [
           {
            "colorbar": {
             "outlinewidth": 0,
             "ticks": ""
            },
            "colorscale": [
             [
              0,
              "#0d0887"
             ],
             [
              0.1111111111111111,
              "#46039f"
             ],
             [
              0.2222222222222222,
              "#7201a8"
             ],
             [
              0.3333333333333333,
              "#9c179e"
             ],
             [
              0.4444444444444444,
              "#bd3786"
             ],
             [
              0.5555555555555556,
              "#d8576b"
             ],
             [
              0.6666666666666666,
              "#ed7953"
             ],
             [
              0.7777777777777778,
              "#fb9f3a"
             ],
             [
              0.8888888888888888,
              "#fdca26"
             ],
             [
              1,
              "#f0f921"
             ]
            ],
            "type": "contour"
           }
          ],
          "contourcarpet": [
           {
            "colorbar": {
             "outlinewidth": 0,
             "ticks": ""
            },
            "type": "contourcarpet"
           }
          ],
          "heatmap": [
           {
            "colorbar": {
             "outlinewidth": 0,
             "ticks": ""
            },
            "colorscale": [
             [
              0,
              "#0d0887"
             ],
             [
              0.1111111111111111,
              "#46039f"
             ],
             [
              0.2222222222222222,
              "#7201a8"
             ],
             [
              0.3333333333333333,
              "#9c179e"
             ],
             [
              0.4444444444444444,
              "#bd3786"
             ],
             [
              0.5555555555555556,
              "#d8576b"
             ],
             [
              0.6666666666666666,
              "#ed7953"
             ],
             [
              0.7777777777777778,
              "#fb9f3a"
             ],
             [
              0.8888888888888888,
              "#fdca26"
             ],
             [
              1,
              "#f0f921"
             ]
            ],
            "type": "heatmap"
           }
          ],
          "histogram": [
           {
            "marker": {
             "pattern": {
              "fillmode": "overlay",
              "size": 10,
              "solidity": 0.2
             }
            },
            "type": "histogram"
           }
          ],
          "histogram2d": [
           {
            "colorbar": {
             "outlinewidth": 0,
             "ticks": ""
            },
            "colorscale": [
             [
              0,
              "#0d0887"
             ],
             [
              0.1111111111111111,
              "#46039f"
             ],
             [
              0.2222222222222222,
              "#7201a8"
             ],
             [
              0.3333333333333333,
              "#9c179e"
             ],
             [
              0.4444444444444444,
              "#bd3786"
             ],
             [
              0.5555555555555556,
              "#d8576b"
             ],
             [
              0.6666666666666666,
              "#ed7953"
             ],
             [
              0.7777777777777778,
              "#fb9f3a"
             ],
             [
              0.8888888888888888,
              "#fdca26"
             ],
             [
              1,
              "#f0f921"
             ]
            ],
            "type": "histogram2d"
           }
          ],
          "histogram2dcontour": [
           {
            "colorbar": {
             "outlinewidth": 0,
             "ticks": ""
            },
            "colorscale": [
             [
              0,
              "#0d0887"
             ],
             [
              0.1111111111111111,
              "#46039f"
             ],
             [
              0.2222222222222222,
              "#7201a8"
             ],
             [
              0.3333333333333333,
              "#9c179e"
             ],
             [
              0.4444444444444444,
              "#bd3786"
             ],
             [
              0.5555555555555556,
              "#d8576b"
             ],
             [
              0.6666666666666666,
              "#ed7953"
             ],
             [
              0.7777777777777778,
              "#fb9f3a"
             ],
             [
              0.8888888888888888,
              "#fdca26"
             ],
             [
              1,
              "#f0f921"
             ]
            ],
            "type": "histogram2dcontour"
           }
          ],
          "mesh3d": [
           {
            "colorbar": {
             "outlinewidth": 0,
             "ticks": ""
            },
            "type": "mesh3d"
           }
          ],
          "parcoords": [
           {
            "line": {
             "colorbar": {
              "outlinewidth": 0,
              "ticks": ""
             }
            },
            "type": "parcoords"
           }
          ],
          "pie": [
           {
            "automargin": true,
            "type": "pie"
           }
          ],
          "scatter": [
           {
            "fillpattern": {
             "fillmode": "overlay",
             "size": 10,
             "solidity": 0.2
            },
            "type": "scatter"
           }
          ],
          "scatter3d": [
           {
            "line": {
             "colorbar": {
              "outlinewidth": 0,
              "ticks": ""
             }
            },
            "marker": {
             "colorbar": {
              "outlinewidth": 0,
              "ticks": ""
             }
            },
            "type": "scatter3d"
           }
          ],
          "scattercarpet": [
           {
            "marker": {
             "colorbar": {
              "outlinewidth": 0,
              "ticks": ""
             }
            },
            "type": "scattercarpet"
           }
          ],
          "scattergeo": [
           {
            "marker": {
             "colorbar": {
              "outlinewidth": 0,
              "ticks": ""
             }
            },
            "type": "scattergeo"
           }
          ],
          "scattergl": [
           {
            "marker": {
             "colorbar": {
              "outlinewidth": 0,
              "ticks": ""
             }
            },
            "type": "scattergl"
           }
          ],
          "scattermap": [
           {
            "marker": {
             "colorbar": {
              "outlinewidth": 0,
              "ticks": ""
             }
            },
            "type": "scattermap"
           }
          ],
          "scattermapbox": [
           {
            "marker": {
             "colorbar": {
              "outlinewidth": 0,
              "ticks": ""
             }
            },
            "type": "scattermapbox"
           }
          ],
          "scatterpolar": [
           {
            "marker": {
             "colorbar": {
              "outlinewidth": 0,
              "ticks": ""
             }
            },
            "type": "scatterpolar"
           }
          ],
          "scatterpolargl": [
           {
            "marker": {
             "colorbar": {
              "outlinewidth": 0,
              "ticks": ""
             }
            },
            "type": "scatterpolargl"
           }
          ],
          "scatterternary": [
           {
            "marker": {
             "colorbar": {
              "outlinewidth": 0,
              "ticks": ""
             }
            },
            "type": "scatterternary"
           }
          ],
          "surface": [
           {
            "colorbar": {
             "outlinewidth": 0,
             "ticks": ""
            },
            "colorscale": [
             [
              0,
              "#0d0887"
             ],
             [
              0.1111111111111111,
              "#46039f"
             ],
             [
              0.2222222222222222,
              "#7201a8"
             ],
             [
              0.3333333333333333,
              "#9c179e"
             ],
             [
              0.4444444444444444,
              "#bd3786"
             ],
             [
              0.5555555555555556,
              "#d8576b"
             ],
             [
              0.6666666666666666,
              "#ed7953"
             ],
             [
              0.7777777777777778,
              "#fb9f3a"
             ],
             [
              0.8888888888888888,
              "#fdca26"
             ],
             [
              1,
              "#f0f921"
             ]
            ],
            "type": "surface"
           }
          ],
          "table": [
           {
            "cells": {
             "fill": {
              "color": "#EBF0F8"
             },
             "line": {
              "color": "white"
             }
            },
            "header": {
             "fill": {
              "color": "#C8D4E3"
             },
             "line": {
              "color": "white"
             }
            },
            "type": "table"
           }
          ]
         },
         "layout": {
          "annotationdefaults": {
           "arrowcolor": "#2a3f5f",
           "arrowhead": 0,
           "arrowwidth": 1
          },
          "autotypenumbers": "strict",
          "coloraxis": {
           "colorbar": {
            "outlinewidth": 0,
            "ticks": ""
           }
          },
          "colorscale": {
           "diverging": [
            [
             0,
             "#8e0152"
            ],
            [
             0.1,
             "#c51b7d"
            ],
            [
             0.2,
             "#de77ae"
            ],
            [
             0.3,
             "#f1b6da"
            ],
            [
             0.4,
             "#fde0ef"
            ],
            [
             0.5,
             "#f7f7f7"
            ],
            [
             0.6,
             "#e6f5d0"
            ],
            [
             0.7,
             "#b8e186"
            ],
            [
             0.8,
             "#7fbc41"
            ],
            [
             0.9,
             "#4d9221"
            ],
            [
             1,
             "#276419"
            ]
           ],
           "sequential": [
            [
             0,
             "#0d0887"
            ],
            [
             0.1111111111111111,
             "#46039f"
            ],
            [
             0.2222222222222222,
             "#7201a8"
            ],
            [
             0.3333333333333333,
             "#9c179e"
            ],
            [
             0.4444444444444444,
             "#bd3786"
            ],
            [
             0.5555555555555556,
             "#d8576b"
            ],
            [
             0.6666666666666666,
             "#ed7953"
            ],
            [
             0.7777777777777778,
             "#fb9f3a"
            ],
            [
             0.8888888888888888,
             "#fdca26"
            ],
            [
             1,
             "#f0f921"
            ]
           ],
           "sequentialminus": [
            [
             0,
             "#0d0887"
            ],
            [
             0.1111111111111111,
             "#46039f"
            ],
            [
             0.2222222222222222,
             "#7201a8"
            ],
            [
             0.3333333333333333,
             "#9c179e"
            ],
            [
             0.4444444444444444,
             "#bd3786"
            ],
            [
             0.5555555555555556,
             "#d8576b"
            ],
            [
             0.6666666666666666,
             "#ed7953"
            ],
            [
             0.7777777777777778,
             "#fb9f3a"
            ],
            [
             0.8888888888888888,
             "#fdca26"
            ],
            [
             1,
             "#f0f921"
            ]
           ]
          },
          "colorway": [
           "#636efa",
           "#EF553B",
           "#00cc96",
           "#ab63fa",
           "#FFA15A",
           "#19d3f3",
           "#FF6692",
           "#B6E880",
           "#FF97FF",
           "#FECB52"
          ],
          "font": {
           "color": "#2a3f5f"
          },
          "geo": {
           "bgcolor": "white",
           "lakecolor": "white",
           "landcolor": "#E5ECF6",
           "showlakes": true,
           "showland": true,
           "subunitcolor": "white"
          },
          "hoverlabel": {
           "align": "left"
          },
          "hovermode": "closest",
          "mapbox": {
           "style": "light"
          },
          "paper_bgcolor": "white",
          "plot_bgcolor": "#E5ECF6",
          "polar": {
           "angularaxis": {
            "gridcolor": "white",
            "linecolor": "white",
            "ticks": ""
           },
           "bgcolor": "#E5ECF6",
           "radialaxis": {
            "gridcolor": "white",
            "linecolor": "white",
            "ticks": ""
           }
          },
          "scene": {
           "xaxis": {
            "backgroundcolor": "#E5ECF6",
            "gridcolor": "white",
            "gridwidth": 2,
            "linecolor": "white",
            "showbackground": true,
            "ticks": "",
            "zerolinecolor": "white"
           },
           "yaxis": {
            "backgroundcolor": "#E5ECF6",
            "gridcolor": "white",
            "gridwidth": 2,
            "linecolor": "white",
            "showbackground": true,
            "ticks": "",
            "zerolinecolor": "white"
           },
           "zaxis": {
            "backgroundcolor": "#E5ECF6",
            "gridcolor": "white",
            "gridwidth": 2,
            "linecolor": "white",
            "showbackground": true,
            "ticks": "",
            "zerolinecolor": "white"
           }
          },
          "shapedefaults": {
           "line": {
            "color": "#2a3f5f"
           }
          },
          "ternary": {
           "aaxis": {
            "gridcolor": "white",
            "linecolor": "white",
            "ticks": ""
           },
           "baxis": {
            "gridcolor": "white",
            "linecolor": "white",
            "ticks": ""
           },
           "bgcolor": "#E5ECF6",
           "caxis": {
            "gridcolor": "white",
            "linecolor": "white",
            "ticks": ""
           }
          },
          "title": {
           "x": 0.05
          },
          "xaxis": {
           "automargin": true,
           "gridcolor": "white",
           "linecolor": "white",
           "ticks": "",
           "title": {
            "standoff": 15
           },
           "zerolinecolor": "white",
           "zerolinewidth": 2
          },
          "yaxis": {
           "automargin": true,
           "gridcolor": "white",
           "linecolor": "white",
           "ticks": "",
           "title": {
            "standoff": 15
           },
           "zerolinecolor": "white",
           "zerolinewidth": 2
          }
         }
        },
        "title": {
         "font": {
          "size": 24
         },
         "text": "Network Performance Comparison"
        },
        "updatemenus": [
         {
          "buttons": [
           {
            "args": [
             {
              "visible": [
               true,
               true,
               false,
               false
              ]
             }
            ],
            "label": "Average Performance",
            "method": "update"
           },
           {
            "args": [
             {
              "visible": [
               false,
               false,
               true,
               true
              ]
             }
            ],
            "label": "Maximum Performance",
            "method": "update"
           }
          ],
          "direction": "right",
          "pad": {
           "r": 10,
           "t": 10
          },
          "showactive": true,
          "type": "buttons",
          "x": 0.5,
          "xanchor": "center",
          "y": 1.15,
          "yanchor": "top"
         }
        ],
        "width": 900,
        "xaxis": {
         "title": {
          "font": {
           "size": 18
          },
          "text": "Dataset"
         }
        },
        "yaxis": {
         "gridcolor": "lightgray",
         "gridwidth": 0.5,
         "range": [
          0,
          1.05
         ],
         "title": {
          "font": {
           "size": 18
          },
          "text": "Score (0-1)"
         }
        }
       }
      }
     },
     "metadata": {},
     "output_type": "display_data"
    },
    {
     "name": "stdout",
     "output_type": "stream",
     "text": [
      "Lower Standards: (RSSI Fair+Good %) * 40% + (TCP Upload Speed Fair+Good %) * 40% + (TCP Upload QoS Fair+Good %) * 10% + (TCP RTT Fair+Good %) * 10%\n",
      "where fair is the second best possible\n",
      "Higher Standard: (RSSI Good %) * 40% + (TCP Upload Speed Good %) * 40% + (TCP Upload QoS Good %) * 10% + (TCP RTT Good %) * 10%\n",
      "no fair used only best possible is used\n"
     ]
    }
   ],
   "source": [
    "fig = interactive_score_comparison(final_df)\n",
    "fig.show()\n",
    "text1 = \"Lower Standards: (RSSI Fair+Good %) * 40% + (TCP Upload Speed Fair+Good %) * 40% + (TCP Upload QoS Fair+Good %) * 10% + (TCP RTT Fair+Good %) * 10%\"\n",
    "text2 = \"where fair is the second best possible\"\n",
    "text3 = \"Higher Standard: (RSSI Good %) * 40% + (TCP Upload Speed Good %) * 40% + (TCP Upload QoS Good %) * 10% + (TCP RTT Good %) * 10%\"\n",
    "text4 = \"no fair used only best possible is used\"\n",
    "\n",
    "print(f\"{text1}\\n{text2}\\n{text3}\\n{text4}\")"
   ]
  },
  {
   "cell_type": "code",
   "execution_count": 29,
   "id": "4ecb6c51",
   "metadata": {},
   "outputs": [
    {
     "data": {
      "image/png": "[encoded data removed]",
      "text/plain": [
       "<Figure size 1400x1000 with 4 Axes>"
      ]
     },
     "metadata": {},
     "output_type": "display_data"
    }
   ],
   "source": [
    "fig = detailed_performance_metrics(final_df)\n",
    "plt.show()"
   ]
  },
  {
   "cell_type": "markdown",
   "id": "95c3a492",
   "metadata": {},
   "source": [
    "I would choose **cellular provider 2** due to its stronger RSSI, superior peak performance, and better alignment with the project's goal of ensuring robust cellular infrastructure for data offloading and maintenance operations.\n"
   ]
  },
  {
   "cell_type": "markdown",
   "id": "6f109339",
   "metadata": {},
   "source": [
    "\n",
    "**Cellular Provider 2 strikes the perfect balance between strong signal coverage and consistent performance. Despite nearly identical overall connectivity (0.765 vs. 0.768), it dominates where it matters most. With a 56% stronger baseline RSSI (0.828 vs. 0.546) and a 47% higher Best Score (0.209 vs. 0.142), it delivers rock-solid coverage in critical areas, essential for real-time data offloading. While Cellular Provider 1 boasts faster upload speeds, Cellular Provider 2’s superior signal strength minimizes the need for infrastructure tweaks, making it the clear winner for facilities that prioritize reliability over small speed advantages.**"
   ]
  },
  {
   "cell_type": "markdown",
   "id": "fe1d1552",
   "metadata": {},
   "source": [
    "### Approximating the missing values for dataset 3 "
   ]
  },
  {
   "cell_type": "markdown",
   "id": "31b5ba89",
   "metadata": {},
   "source": [
    "However, we haven't considered what would happen if we didn't have the missing data for the two rows for dataset 3. So, I will approximate the missing values using the mean of the other values nearby and then calculate the score again.\n"
   ]
  },
  {
   "cell_type": "code",
   "execution_count": null,
   "id": "a452c43c",
   "metadata": {},
   "outputs": [],
   "source": [
    "def fill_empty_nodes(df, empty_nodes, surrounding_nodes_map):\n",
    "    df_result = df.copy()\n",
    "\n",
    "    target_columns = ['RSSI (dBm)', 'TCP Upload Speed (Mbps)',\n",
    "                      'TCP Upload QoS (%)', 'TCP Round Trip Time (ms)']\n",
    "\n",
    "    for a, b in empty_nodes:\n",
    "        surroundings = []\n",
    "        for surr_a, surr_b in surrounding_nodes_map[(a, b)]:\n",
    "            node_data = df[(df['Aisle Number'] == f'A{surr_a}') &\n",
    "                           (df['Quad Number'] == f'B{surr_b}')]\n",
    "            if not node_data.empty:\n",
    "                surroundings.append(node_data)\n",
    "\n",
    "        if surroundings:\n",
    "            surrounding_df = pd.concat(surroundings)\n",
    "            avg_values = surrounding_df[target_columns].mean()\n",
    "\n",
    "            mask = (df_result['Aisle Number'] == f'A{a}') & (\n",
    "                df_result['Quad Number'] == f'B{b}')\n",
    "\n",
    "            if mask.any():\n",
    "                for col in target_columns:\n",
    "                    df_result.loc[mask, col] = avg_values[col]\n",
    "                df_result.loc[mask, 'isDataPresent'] = True\n",
    "            else:\n",
    "                new_row = {\n",
    "                    'Aisle Number': f'A{a}',\n",
    "                    'Quad Number': f'B{b}',\n",
    "                    'isDataPresent': True\n",
    "                }\n",
    "                for col in target_columns:\n",
    "                    new_row[col] = avg_values[col]\n",
    "                df_result = pd.concat(\n",
    "                    [df_result, pd.DataFrame([new_row])], ignore_index=True)\n",
    "\n",
    "    return df_result"
   ]
  },
  {
   "cell_type": "code",
   "execution_count": 31,
   "id": "27900ac6",
   "metadata": {},
   "outputs": [],
   "source": [
    "empty_nodes = [(7, 2), (2, 8)]\n",
    "surrounding_nodes_map = {\n",
    "    (7, 2): [(6, 1), (6, 2), (6, 3), (7, 1), (7, 3), (8, 1), (8, 2), (8, 3)],\n",
    "    (2, 8): [(1, 7), (1, 8), (2, 7), (3, 7), (3, 8)]\n",
    "}"
   ]
  },
  {
   "cell_type": "code",
   "execution_count": 32,
   "id": "4253592b",
   "metadata": {},
   "outputs": [
    {
     "data": {
      "text/plain": [
       "Aisle Number                0\n",
       "Quad Number                 0\n",
       "TCP Upload Speed (Mbps)     0\n",
       "TCP Upload QoS (%)          0\n",
       "TCP Round Trip Time (ms)    0\n",
       "RSSI (dBm)                  0\n",
       "isDataPresent               0\n",
       "dtype: int64"
      ]
     },
     "execution_count": 32,
     "metadata": {},
     "output_type": "execute_result"
    }
   ],
   "source": [
    "df_avg3_filled = fill_empty_nodes(df_avg3, empty_nodes, surrounding_nodes_map)\n",
    "df_avg3_filled.isna().sum()"
   ]
  },
  {
   "cell_type": "markdown",
   "id": "6d1aaf1d",
   "metadata": {},
   "source": [
    "Since, we focus on reliability and robustness, we will only consider the average values from now.\n",
    "We used functions to calculate most of the results earlier, so we will use the same functions with this new data.\n"
   ]
  },
  {
   "cell_type": "code",
   "execution_count": 33,
   "id": "e5db9041",
   "metadata": {},
   "outputs": [
    {
     "data": {
      "image/png": "[encoded data removed]",
      "text/plain": [
       "<Figure size 1600x1200 with 4 Axes>"
      ]
     },
     "metadata": {},
     "output_type": "display_data"
    }
   ],
   "source": [
    "def create_combined_comparison_histogram(df1, df2, df3, metrics, bins, bin_labels, colors):\n",
    "    fig, axes = plt.subplots(2, 2, figsize=(16, 12))\n",
    "    axes = axes.flatten()\n",
    "\n",
    "    for idx, metric in enumerate(metrics):\n",
    "        categories1 = pd.cut(df1[metric], bins=bins[metric],\n",
    "                             labels=bin_labels[metric], right=False)\n",
    "        categories2 = pd.cut(df2[metric], bins=bins[metric],\n",
    "                             labels=bin_labels[metric], right=False)\n",
    "        categories3 = pd.cut(df3[metric], bins=bins[metric],\n",
    "                             labels=bin_labels[metric], right=False)\n",
    "\n",
    "        category_counts1 = categories1.value_counts().reindex(\n",
    "            bin_labels[metric], fill_value=0)\n",
    "        category_counts2 = categories2.value_counts().reindex(\n",
    "            bin_labels[metric], fill_value=0)\n",
    "        category_counts3 = categories3.value_counts().reindex(\n",
    "            bin_labels[metric], fill_value=0)\n",
    "\n",
    "        bar_width = 0.25\n",
    "\n",
    "        r1 = range(len(bin_labels[metric]))\n",
    "        r2 = [x + bar_width for x in r1]\n",
    "        r3 = [x + 2 * bar_width for x in r1]\n",
    "\n",
    "        axes[idx].bar(r1, category_counts1, color=colors[0],\n",
    "                      width=bar_width, edgecolor='grey', label='Dataset 1')\n",
    "        axes[idx].bar(r2, category_counts2, color=colors[1],\n",
    "                      width=bar_width, edgecolor='grey', label='Dataset 2')\n",
    "        axes[idx].bar(r3, category_counts3, color=colors[2],\n",
    "                      width=bar_width, edgecolor='grey', label='Dataset 3')\n",
    "\n",
    "        axes[idx].set_xlabel('Category', fontweight='bold')\n",
    "        axes[idx].set_xticks(\n",
    "            [r + bar_width for r in range(len(bin_labels[metric]))])\n",
    "        axes[idx].set_xticklabels(bin_labels[metric])\n",
    "        axes[idx].set_ylabel('Count')\n",
    "        axes[idx].set_title(f'Comparison of {metric}', fontweight='bold')\n",
    "\n",
    "        axes[idx].legend()\n",
    "\n",
    "    plt.tight_layout(rect=[0, 0.03, 1, 0.95])\n",
    "    plt.suptitle('Network Performance Metrics Comparison',\n",
    "                 fontsize=16, fontweight='bold')\n",
    "\n",
    "    plt.show()\n",
    "\n",
    "\n",
    "metrics = ['RSSI (dBm)', 'TCP Upload Speed (Mbps)',\n",
    "           'TCP Upload QoS (%)', 'TCP Round Trip Time (ms)']\n",
    "create_combined_comparison_histogram(\n",
    "    df_avg1, df_avg2, df_avg3_filled, metrics, bins, bin_labels, colors)"
   ]
  },
  {
   "cell_type": "code",
   "execution_count": 34,
   "id": "21bda93a",
   "metadata": {},
   "outputs": [
    {
     "data": {
      "text/html": [
       "<style type=\"text/css\">\n",
       "#T_f8cbf_row0_col1 {\n",
       "  background-color: #5ba3d0;\n",
       "  color: #f1f1f1;\n",
       "}\n",
       "#T_f8cbf_row0_col2, #T_f8cbf_row0_col4, #T_f8cbf_row1_col8, #T_f8cbf_row2_col4 {\n",
       "  background-color: #f7fbff;\n",
       "  color: #000000;\n",
       "}\n",
       "#T_f8cbf_row0_col3, #T_f8cbf_row2_col1 {\n",
       "  background-color: #08509b;\n",
       "  color: #f1f1f1;\n",
       "}\n",
       "#T_f8cbf_row0_col5, #T_f8cbf_row0_col7, #T_f8cbf_row1_col7, #T_f8cbf_row2_col5, #T_f8cbf_row2_col7 {\n",
       "  background-color: #08306b;\n",
       "  color: #f1f1f1;\n",
       "}\n",
       "#T_f8cbf_row0_col6 {\n",
       "  background-color: #084082;\n",
       "  color: #f1f1f1;\n",
       "}\n",
       "#T_f8cbf_row0_col8 {\n",
       "  background-color: #71b1d7;\n",
       "  color: #f1f1f1;\n",
       "}\n",
       "#T_f8cbf_row0_col9, #T_f8cbf_row1_col9 {\n",
       "  background-color: #1d6cb1;\n",
       "  color: #f1f1f1;\n",
       "}\n",
       "#T_f8cbf_row0_col10 {\n",
       "  background-color: #dbe9f6;\n",
       "  color: #000000;\n",
       "}\n",
       "#T_f8cbf_row1_col1 {\n",
       "  background-color: #115ca5;\n",
       "  color: #f1f1f1;\n",
       "}\n",
       "#T_f8cbf_row1_col2 {\n",
       "  background-color: #d2e3f3;\n",
       "  color: #000000;\n",
       "}\n",
       "#T_f8cbf_row1_col3 {\n",
       "  background-color: #4b98ca;\n",
       "  color: #f1f1f1;\n",
       "}\n",
       "#T_f8cbf_row1_col4, #T_f8cbf_row2_col10 {\n",
       "  background-color: #deebf7;\n",
       "  color: #000000;\n",
       "}\n",
       "#T_f8cbf_row1_col5 {\n",
       "  background-color: #083776;\n",
       "  color: #f1f1f1;\n",
       "}\n",
       "#T_f8cbf_row1_col6 {\n",
       "  background-color: #0e58a2;\n",
       "  color: #f1f1f1;\n",
       "}\n",
       "#T_f8cbf_row1_col10 {\n",
       "  background-color: #cee0f2;\n",
       "  color: #000000;\n",
       "}\n",
       "#T_f8cbf_row2_col2 {\n",
       "  background-color: #e1edf8;\n",
       "  color: #000000;\n",
       "}\n",
       "#T_f8cbf_row2_col3 {\n",
       "  background-color: #8abfdd;\n",
       "  color: #000000;\n",
       "}\n",
       "#T_f8cbf_row2_col6 {\n",
       "  background-color: #1a68ae;\n",
       "  color: #f1f1f1;\n",
       "}\n",
       "#T_f8cbf_row2_col8 {\n",
       "  background-color: #eaf3fb;\n",
       "  color: #000000;\n",
       "}\n",
       "#T_f8cbf_row2_col9 {\n",
       "  background-color: #2979b9;\n",
       "  color: #f1f1f1;\n",
       "}\n",
       "</style>\n",
       "<table id=\"T_f8cbf\">\n",
       "  <thead>\n",
       "    <tr>\n",
       "      <th class=\"blank level0\" >&nbsp;</th>\n",
       "      <th id=\"T_f8cbf_level0_col0\" class=\"col_heading level0 col0\" >Dataset</th>\n",
       "      <th id=\"T_f8cbf_level0_col1\" class=\"col_heading level0 col1\" >Mean RSSI Score</th>\n",
       "      <th id=\"T_f8cbf_level0_col2\" class=\"col_heading level0 col2\" >Mean RSSI Best Score</th>\n",
       "      <th id=\"T_f8cbf_level0_col3\" class=\"col_heading level0 col3\" >Mean Speed Score</th>\n",
       "      <th id=\"T_f8cbf_level0_col4\" class=\"col_heading level0 col4\" >Mean Speed Best Score</th>\n",
       "      <th id=\"T_f8cbf_level0_col5\" class=\"col_heading level0 col5\" >Mean QoS Score</th>\n",
       "      <th id=\"T_f8cbf_level0_col6\" class=\"col_heading level0 col6\" >Mean QoS Best Score</th>\n",
       "      <th id=\"T_f8cbf_level0_col7\" class=\"col_heading level0 col7\" >Mean RTT Score</th>\n",
       "      <th id=\"T_f8cbf_level0_col8\" class=\"col_heading level0 col8\" >Mean RTT Best Score</th>\n",
       "      <th id=\"T_f8cbf_level0_col9\" class=\"col_heading level0 col9\" >Weighted Score</th>\n",
       "      <th id=\"T_f8cbf_level0_col10\" class=\"col_heading level0 col10\" >Weighted Best Score</th>\n",
       "    </tr>\n",
       "  </thead>\n",
       "  <tbody>\n",
       "    <tr>\n",
       "      <th id=\"T_f8cbf_level0_row0\" class=\"row_heading level0 row0\" >0</th>\n",
       "      <td id=\"T_f8cbf_row0_col0\" class=\"data row0 col0\" >Dataset 1</td>\n",
       "      <td id=\"T_f8cbf_row0_col1\" class=\"data row0 col1\" >0.546875</td>\n",
       "      <td id=\"T_f8cbf_row0_col2\" class=\"data row0 col2\" >0.000000</td>\n",
       "      <td id=\"T_f8cbf_row0_col3\" class=\"data row0 col3\" >0.875000</td>\n",
       "      <td id=\"T_f8cbf_row0_col4\" class=\"data row0 col4\" >0.000000</td>\n",
       "      <td id=\"T_f8cbf_row0_col5\" class=\"data row0 col5\" >1.000000</td>\n",
       "      <td id=\"T_f8cbf_row0_col6\" class=\"data row0 col6\" >0.937500</td>\n",
       "      <td id=\"T_f8cbf_row0_col7\" class=\"data row0 col7\" >1.000000</td>\n",
       "      <td id=\"T_f8cbf_row0_col8\" class=\"data row0 col8\" >0.484375</td>\n",
       "      <td id=\"T_f8cbf_row0_col9\" class=\"data row0 col9\" >0.768750</td>\n",
       "      <td id=\"T_f8cbf_row0_col10\" class=\"data row0 col10\" >0.142187</td>\n",
       "    </tr>\n",
       "    <tr>\n",
       "      <th id=\"T_f8cbf_level0_row1\" class=\"row_heading level0 row1\" >1</th>\n",
       "      <td id=\"T_f8cbf_row1_col0\" class=\"data row1 col0\" >Dataset 2</td>\n",
       "      <td id=\"T_f8cbf_row1_col1\" class=\"data row1 col1\" >0.828125</td>\n",
       "      <td id=\"T_f8cbf_row1_col2\" class=\"data row1 col2\" >0.187500</td>\n",
       "      <td id=\"T_f8cbf_row1_col3\" class=\"data row1 col3\" >0.593750</td>\n",
       "      <td id=\"T_f8cbf_row1_col4\" class=\"data row1 col4\" >0.125000</td>\n",
       "      <td id=\"T_f8cbf_row1_col5\" class=\"data row1 col5\" >0.968750</td>\n",
       "      <td id=\"T_f8cbf_row1_col6\" class=\"data row1 col6\" >0.843750</td>\n",
       "      <td id=\"T_f8cbf_row1_col7\" class=\"data row1 col7\" >1.000000</td>\n",
       "      <td id=\"T_f8cbf_row1_col8\" class=\"data row1 col8\" >0.000000</td>\n",
       "      <td id=\"T_f8cbf_row1_col9\" class=\"data row1 col9\" >0.765625</td>\n",
       "      <td id=\"T_f8cbf_row1_col10\" class=\"data row1 col10\" >0.209375</td>\n",
       "    </tr>\n",
       "    <tr>\n",
       "      <th id=\"T_f8cbf_level0_row2\" class=\"row_heading level0 row2\" >2</th>\n",
       "      <td id=\"T_f8cbf_row2_col0\" class=\"data row2 col0\" >Dataset 3</td>\n",
       "      <td id=\"T_f8cbf_row2_col1\" class=\"data row2 col1\" >0.875000</td>\n",
       "      <td id=\"T_f8cbf_row2_col2\" class=\"data row2 col2\" >0.109375</td>\n",
       "      <td id=\"T_f8cbf_row2_col3\" class=\"data row2 col3\" >0.421875</td>\n",
       "      <td id=\"T_f8cbf_row2_col4\" class=\"data row2 col4\" >0.000000</td>\n",
       "      <td id=\"T_f8cbf_row2_col5\" class=\"data row2 col5\" >1.000000</td>\n",
       "      <td id=\"T_f8cbf_row2_col6\" class=\"data row2 col6\" >0.781250</td>\n",
       "      <td id=\"T_f8cbf_row2_col7\" class=\"data row2 col7\" >1.000000</td>\n",
       "      <td id=\"T_f8cbf_row2_col8\" class=\"data row2 col8\" >0.062500</td>\n",
       "      <td id=\"T_f8cbf_row2_col9\" class=\"data row2 col9\" >0.718750</td>\n",
       "      <td id=\"T_f8cbf_row2_col10\" class=\"data row2 col10\" >0.128125</td>\n",
       "    </tr>\n",
       "  </tbody>\n",
       "</table>\n"
      ],
      "text/plain": [
       "<pandas.io.formats.style.Styler at 0x1f404061310>"
      ]
     },
     "execution_count": 34,
     "metadata": {},
     "output_type": "execute_result"
    }
   ],
   "source": [
    "def create_summary_table_filled(num_datasets, avg_dfs):\n",
    "    def calculate_score(df):\n",
    "        df = df.copy()\n",
    "        df[\"RSSI Score\"] = df[\"RSSI (dBm)\"].apply(\n",
    "            lambda x: 1 if x >= -96 else 0)\n",
    "        df[\"Speed Score\"] = df[\"TCP Upload Speed (Mbps)\"].apply(\n",
    "            lambda x: 1 if x >= 15 else 0)\n",
    "        df[\"QoS Score\"] = df[\"TCP Upload QoS (%)\"].apply(\n",
    "            lambda x: 1 if x >= 50 else 0)\n",
    "        df[\"RTT Score\"] = df[\"TCP Round Trip Time (ms)\"].apply(\n",
    "            lambda x: 1 if x <= 100 else 0)\n",
    "\n",
    "        df[\"RSSI Best Score\"] = df['RSSI (dBm)'].apply(\n",
    "            lambda x: 1 if x >= -86 else 0)\n",
    "        df[\"Speed Best Score\"] = df['TCP Upload Speed (Mbps)'].apply(\n",
    "            lambda x: 1 if x >= 30 else 0)\n",
    "        df[\"QoS Best Score\"] = df['TCP Upload QoS (%)'].apply(\n",
    "            lambda x: 1 if x >= 70 else 0)\n",
    "        df[\"RTT Best Score\"] = df['TCP Round Trip Time (ms)'].apply(\n",
    "            lambda x: 1 if x <= 50 else 0)\n",
    "\n",
    "        return df\n",
    "\n",
    "    data = []\n",
    "\n",
    "    for i in range(num_datasets):\n",
    "        df_avg = calculate_score(avg_dfs[i].copy())\n",
    "\n",
    "        avg_row = [\n",
    "            df_avg[\"RSSI Score\"].mean(), df_avg[\"RSSI Best Score\"].mean(),\n",
    "            df_avg[\"Speed Score\"].mean(), df_avg[\"Speed Best Score\"].mean(),\n",
    "            df_avg[\"QoS Score\"].mean(), df_avg[\"QoS Best Score\"].mean(),\n",
    "            df_avg[\"RTT Score\"].mean(), df_avg[\"RTT Best Score\"].mean()\n",
    "        ]\n",
    "        weighted_avg_score = (\n",
    "            avg_row[0] * 0.4 + avg_row[2] * 0.4 + avg_row[4] * 0.1 + avg_row[6] * 0.1)\n",
    "        weighted_best_score = (\n",
    "            avg_row[1] * 0.4 + avg_row[3] * 0.4 + avg_row[5] * 0.1 + avg_row[7] * 0.1)\n",
    "        avg_row.extend([weighted_avg_score, weighted_best_score])\n",
    "\n",
    "        data.append([f\"Dataset {i+1}\"] + avg_row)\n",
    "\n",
    "    columns = [\"Dataset\", \"Mean RSSI Score\", \"Mean RSSI Best Score\", \"Mean Speed Score\", \"Mean Speed Best Score\",\n",
    "               \"Mean QoS Score\", \"Mean QoS Best Score\", \"Mean RTT Score\", \"Mean RTT Best Score\",\n",
    "               \"Weighted Score\", \"Weighted Best Score\"]\n",
    "    df = pd.DataFrame(data, columns=columns)\n",
    "\n",
    "    return df\n",
    "\n",
    "\n",
    "num_datasets = 3\n",
    "avg_dataframes = [df_avg1, df_avg2, df_avg3_filled]\n",
    "final_df_2 = create_summary_table_filled(num_datasets, avg_dataframes)\n",
    "\n",
    "final_df_2.style.background_gradient(cmap='Blues', axis=None)"
   ]
  },
  {
   "cell_type": "markdown",
   "id": "a246af32",
   "metadata": {},
   "source": [
    "- Weighted Score: ((0.718750 - 0.693750) / 0.693750) \\* 100 = 3.60%\n",
    "\n",
    "- Weighted Best Score: ((0.128125 - 0.126563) / 0.126563) \\* 100 = 1.24%\n"
   ]
  },
  {
   "cell_type": "markdown",
   "id": "5ff976ee",
   "metadata": {},
   "source": [
    "Even with the approximated missing data in Dataset 3, Cellular Provider 2 remains my preferred choice due to its consistency and reliable overall performance. This is reflected in its higher weighted scores, which are less influenced by peak, potentially transient performance.\n"
   ]
  },
  {
   "cell_type": "markdown",
   "id": "d6921813",
   "metadata": {},
   "source": [
    "### Repeater Placement Algorithm and Visualization:\n",
    "\n",
    "The Repeater Placement Algorithm is designed to optimize the placement of repeaters within a given area to ensure robust cellular coverage. The algorithm takes into account the signal strength and distance to determine the most effective locations for repeater installation.\n",
    "\n"
   ]
  },
  {
   "cell_type": "code",
   "execution_count": 35,
   "id": "15651b95",
   "metadata": {},
   "outputs": [],
   "source": [
    "def min_repeaters(df, lower_bound=-96):\n",
    "    working_df = df.copy(deep=True)\n",
    "\n",
    "    working_df['Aisle_Num'] = working_df['Aisle Number'].str.extract(\n",
    "        r'A(\\d+)').astype(int)\n",
    "    working_df['Quad_Num'] = working_df['Quad Number'].str.extract(\n",
    "        r'B(\\d+)').astype(int)\n",
    "\n",
    "    working_df['RSSI_Original'] = working_df['RSSI (dBm)'].copy()\n",
    "\n",
    "    boost_map = {\n",
    "        (0, 0): 15,  # Center location\n",
    "        (0, 1): 10, (1, 0): 10, (0, -1): 10, (-1, 0): 10,  # Adjacent\n",
    "        (1, 1): 8, (1, -1): 8, (-1, 1): 8, (-1, -1): 8,  # Diagonal\n",
    "        (0, 2): 5, (2, 0): 5, (0, -2): 5, (-2, 0): 5  # Two units away\n",
    "    }\n",
    "\n",
    "    repeaters = []\n",
    "\n",
    "    while True:\n",
    "        poor_locations = working_df[working_df['RSSI (dBm)'] < lower_bound]\n",
    "\n",
    "        if poor_locations.empty:\n",
    "            break\n",
    "\n",
    "        worst_idx = poor_locations['RSSI (dBm)'].idxmin()\n",
    "        worst_loc = working_df.loc[worst_idx]\n",
    "\n",
    "        repeater_aisle = worst_loc['Aisle_Num']\n",
    "        repeater_quad = worst_loc['Quad_Num']\n",
    "        repeaters.append((f\"A{repeater_aisle}\", f\"B{repeater_quad}\"))\n",
    "\n",
    "        for (da, dq), boost in boost_map.items():\n",
    "            target_aisle = repeater_aisle + da\n",
    "            target_quad = repeater_quad + dq\n",
    "\n",
    "            if 1 <= target_aisle <= 8 and 1 <= target_quad <= 8:\n",
    "                mask = (working_df['Aisle_Num'] == target_aisle) & (\n",
    "                    working_df['Quad_Num'] == target_quad)\n",
    "\n",
    "                if any(mask):\n",
    "                    current_values = working_df.loc[mask, 'RSSI (dBm)'].values\n",
    "                    working_df.loc[mask, 'RSSI (dBm)'] = current_values + boost\n",
    "\n",
    "    result_df = working_df[['Aisle Number', 'Quad Number',\n",
    "                            'RSSI_Original', 'RSSI (dBm)']].copy()\n",
    "    result_df['Changed'] = result_df['RSSI (dBm)'] != result_df['RSSI_Original']\n",
    "\n",
    "    return len(repeaters), repeaters, result_df"
   ]
  },
  {
   "cell_type": "code",
   "execution_count": 36,
   "id": "04099869",
   "metadata": {},
   "outputs": [
    {
     "name": "stdout",
     "output_type": "stream",
     "text": [
      "Dataset 1: 9 repeaters needed to improve all \"Poor\" or \"Acceptable\" RSSI values to at least \"Fair\".\n",
      "Dataset 2: 5 repeaters needed to improve all \"Poor\" or \"Acceptable\" RSSI values to at least \"Fair\".\n",
      "Dataset 3: 4 repeaters needed to improve all \"Poor\" or \"Acceptable\" RSSI values to at least \"Fair\".\n"
     ]
    }
   ],
   "source": [
    "df_repeaters_fair = []\n",
    "repeater_loc_1 = []\n",
    "for i in range(3):\n",
    "    num_repeater, repeater_loc, final_rssi_df = min_repeaters(\n",
    "        avg_dataframes[i])\n",
    "    new_df = avg_dataframes[i].copy()\n",
    "    new_df['RSSI (dBm)'] = final_rssi_df['RSSI (dBm)'].copy()\n",
    "    df_repeaters_fair.append(new_df)\n",
    "    repeater_loc_1.append(repeater_loc)\n",
    "    print(f'Dataset {i+1}: {num_repeater} repeaters needed to improve all \"Poor\" or \"Acceptable\" RSSI values to at least \"Fair\".')"
   ]
  },
  {
   "cell_type": "code",
   "execution_count": 37,
   "id": "da50288f",
   "metadata": {},
   "outputs": [
    {
     "name": "stdout",
     "output_type": "stream",
     "text": [
      "Total cells: 64, Missing cells: 0\n"
     ]
    },
    {
     "data": {
      "application/vnd.jupyter.widget-view+json": {
       "model_id": "732372d977e34bec835de25a2b6b1d1a",
       "version_major": 2,
       "version_minor": 0
      },
      "text/plain": [
       "VBox(children=(HBox(children=(Dropdown(description='Metric:', layout=Layout(width='50%'), options=('RSSI (dBm)…"
      ]
     },
     "metadata": {},
     "output_type": "display_data"
    }
   ],
   "source": [
    "num_datasets = 3\n",
    "dfs_avg = [df_avg1, df_avg2, df_avg3_filled]\n",
    "dfs_max = df_repeaters_fair\n",
    "interactive_grid = create_interactive_grid_plots(\n",
    "    num_datasets, dfs_avg, dfs_max, show_repeaters=True, repeater_locations=repeater_loc_1)\n",
    "\n",
    "\n",
    "display(interactive_grid)"
   ]
  },
  {
   "cell_type": "code",
   "execution_count": 38,
   "id": "65ba3d37",
   "metadata": {},
   "outputs": [
    {
     "name": "stdout",
     "output_type": "stream",
     "text": [
      "Dataset 1: 13 repeaters needed to improve all RSSI values to at least \"Good\".\n",
      "Dataset 2: 14 repeaters needed to improve all RSSI values to at least \"Good\".\n",
      "Dataset 3: 13 repeaters needed to improve all RSSI values to at least \"Good\".\n"
     ]
    }
   ],
   "source": [
    "lower_bound_for_good = -86\n",
    "\n",
    "dfs_repeaters_good = []\n",
    "repeater_loc_2 = []\n",
    "\n",
    "for i in range(3):\n",
    "    num_repeater, repeater_loc, final_rssi_df = min_repeaters(\n",
    "        avg_dataframes[i], lower_bound=lower_bound_for_good)\n",
    "    new_df = avg_dataframes[i].copy()\n",
    "    new_df['RSSI (dBm)'] = final_rssi_df['RSSI (dBm)'].copy()\n",
    "    repeater_loc_2.append(repeater_loc)\n",
    "    dfs_repeaters_good.append(new_df)\n",
    "    print(\n",
    "        f'Dataset {i+1}: {num_repeater} repeaters needed to improve all RSSI values to at least \"Good\".')"
   ]
  },
  {
   "cell_type": "code",
   "execution_count": 39,
   "id": "5a4d9a64",
   "metadata": {},
   "outputs": [
    {
     "name": "stdout",
     "output_type": "stream",
     "text": [
      "Total cells: 64, Missing cells: 0\n"
     ]
    },
    {
     "data": {
      "application/vnd.jupyter.widget-view+json": {
       "model_id": "323632b43d6c45c498e38d98e51c8f48",
       "version_major": 2,
       "version_minor": 0
      },
      "text/plain": [
       "VBox(children=(HBox(children=(Dropdown(description='Metric:', layout=Layout(width='50%'), options=('RSSI (dBm)…"
      ]
     },
     "metadata": {},
     "output_type": "display_data"
    }
   ],
   "source": [
    "num_datasets = 3\n",
    "dfs_avg = [df_avg1, df_avg2, df_avg3_filled]\n",
    "dfs_max = dfs_repeaters_good\n",
    "\n",
    "interactive_grid = create_interactive_grid_plots(\n",
    "    num_datasets, dfs_avg, dfs_max, repeater_locations=repeater_loc_2, show_repeaters=True)\n",
    "\n",
    "display(interactive_grid)"
   ]
  },
  {
   "cell_type": "markdown",
   "id": "37d5a40f",
   "metadata": {},
   "source": [
    "### Line Graph \n",
    "Compares the increase in RSSI after addition of repeeaters for all cellular providers.\n"
   ]
  },
  {
   "cell_type": "code",
   "execution_count": 40,
   "id": "7f23912a",
   "metadata": {},
   "outputs": [],
   "source": [
    "def interactive_line_graph(dataset_count, dfs, dfs_c):\n",
    "    dataset_selector = widgets.Dropdown(\n",
    "        options=[(f'Cellular Provider {i+1}', i)\n",
    "                 for i in range(dataset_count)],\n",
    "        description='Cellular Provider:',\n",
    "        style={'description_width': 'initial'}\n",
    "    )\n",
    "\n",
    "    output = widgets.Output()\n",
    "\n",
    "    def update_plot(dataset_idx):\n",
    "        with output:\n",
    "            output.clear_output(wait=True)\n",
    "            df1 = dfs[dataset_idx]\n",
    "            df2 = dfs_c[dataset_idx]\n",
    "\n",
    "            fig = go.Figure()\n",
    "            fig.add_trace(go.Scatter(\n",
    "                x=df1.index, y=df1['RSSI (dBm)'], mode='lines', name='Original'))\n",
    "            fig.add_trace(go.Scatter(\n",
    "                x=df2.index, y=df2['RSSI (dBm)'], mode='lines', name='Modified'))\n",
    "\n",
    "            fig.update_layout(title=f'Comparison of RSSI (dBm) for Dataset {dataset_idx+1}',\n",
    "                              xaxis_title='Index',\n",
    "                              yaxis_title='RSSI (dBm)',\n",
    "                              template='plotly_white')\n",
    "            fig.show()\n",
    "\n",
    "    dataset_selector.observe(\n",
    "        lambda change: update_plot(change['new']), names='value')\n",
    "\n",
    "    display(dataset_selector, output)\n",
    "    update_plot(0)"
   ]
  },
  {
   "cell_type": "code",
   "execution_count": 41,
   "id": "60ce1a67",
   "metadata": {},
   "outputs": [
    {
     "data": {
      "application/vnd.jupyter.widget-view+json": {
       "model_id": "c8e95a30bde4473f93e7dcd48893a888",
       "version_major": 2,
       "version_minor": 0
      },
      "text/plain": [
       "Dropdown(description='Cellular Provider:', options=(('Cellular Provider 1', 0), ('Cellular Provider 2', 1), ('…"
      ]
     },
     "metadata": {},
     "output_type": "display_data"
    },
    {
     "data": {
      "application/vnd.jupyter.widget-view+json": {
       "model_id": "7fde9692e63e4e66916977c7d418650b",
       "version_major": 2,
       "version_minor": 0
      },
      "text/plain": [
       "Output()"
      ]
     },
     "metadata": {},
     "output_type": "display_data"
    }
   ],
   "source": [
    "# Boosted RSSI values after adding repeaters\n",
    "num_datasets = 3\n",
    "dfs = [df_avg1, df_avg2, df_avg3_filled]\n",
    "dfs_c = df_repeaters_fair\n",
    "\n",
    "interactive_line_graph(num_datasets, dfs, dfs_c)"
   ]
  },
  {
   "cell_type": "markdown",
   "id": "ddf39866",
   "metadata": {},
   "source": [
    "Now, let's calculate the score for the boosted values using repeaters. We will use the same formula as before.\n",
    "We will use the dataframe where we boosted the RSSI values to be atleast fair.\n"
   ]
  },
  {
   "cell_type": "code",
   "execution_count": 42,
   "id": "58a9f823",
   "metadata": {},
   "outputs": [
    {
     "data": {
      "text/html": [
       "<style type=\"text/css\">\n",
       "#T_d9a5a_row0_col1, #T_d9a5a_row0_col5, #T_d9a5a_row0_col7, #T_d9a5a_row1_col1, #T_d9a5a_row1_col7, #T_d9a5a_row2_col1, #T_d9a5a_row2_col5, #T_d9a5a_row2_col7 {\n",
       "  background-color: #08306b;\n",
       "  color: #f1f1f1;\n",
       "}\n",
       "#T_d9a5a_row0_col2 {\n",
       "  background-color: #2979b9;\n",
       "  color: #f1f1f1;\n",
       "}\n",
       "#T_d9a5a_row0_col3 {\n",
       "  background-color: #08509b;\n",
       "  color: #f1f1f1;\n",
       "}\n",
       "#T_d9a5a_row0_col4, #T_d9a5a_row1_col8, #T_d9a5a_row2_col4 {\n",
       "  background-color: #f7fbff;\n",
       "  color: #000000;\n",
       "}\n",
       "#T_d9a5a_row0_col6 {\n",
       "  background-color: #084082;\n",
       "  color: #f1f1f1;\n",
       "}\n",
       "#T_d9a5a_row0_col8, #T_d9a5a_row2_col2 {\n",
       "  background-color: #71b1d7;\n",
       "  color: #f1f1f1;\n",
       "}\n",
       "#T_d9a5a_row0_col9 {\n",
       "  background-color: #083c7d;\n",
       "  color: #f1f1f1;\n",
       "}\n",
       "#T_d9a5a_row0_col10 {\n",
       "  background-color: #87bddc;\n",
       "  color: #000000;\n",
       "}\n",
       "#T_d9a5a_row1_col2 {\n",
       "  background-color: #56a0ce;\n",
       "  color: #f1f1f1;\n",
       "}\n",
       "#T_d9a5a_row1_col3 {\n",
       "  background-color: #4b98ca;\n",
       "  color: #f1f1f1;\n",
       "}\n",
       "#T_d9a5a_row1_col4 {\n",
       "  background-color: #deebf7;\n",
       "  color: #000000;\n",
       "}\n",
       "#T_d9a5a_row1_col5 {\n",
       "  background-color: #083776;\n",
       "  color: #f1f1f1;\n",
       "}\n",
       "#T_d9a5a_row1_col6 {\n",
       "  background-color: #0e58a2;\n",
       "  color: #f1f1f1;\n",
       "}\n",
       "#T_d9a5a_row1_col9 {\n",
       "  background-color: #105ba4;\n",
       "  color: #f1f1f1;\n",
       "}\n",
       "#T_d9a5a_row1_col10 {\n",
       "  background-color: #a3cce3;\n",
       "  color: #000000;\n",
       "}\n",
       "#T_d9a5a_row2_col3 {\n",
       "  background-color: #8abfdd;\n",
       "  color: #000000;\n",
       "}\n",
       "#T_d9a5a_row2_col6 {\n",
       "  background-color: #1a68ae;\n",
       "  color: #f1f1f1;\n",
       "}\n",
       "#T_d9a5a_row2_col8 {\n",
       "  background-color: #eaf3fb;\n",
       "  color: #000000;\n",
       "}\n",
       "#T_d9a5a_row2_col9 {\n",
       "  background-color: #1d6cb1;\n",
       "  color: #f1f1f1;\n",
       "}\n",
       "#T_d9a5a_row2_col10 {\n",
       "  background-color: #bdd7ec;\n",
       "  color: #000000;\n",
       "}\n",
       "</style>\n",
       "<table id=\"T_d9a5a\">\n",
       "  <thead>\n",
       "    <tr>\n",
       "      <th class=\"blank level0\" >&nbsp;</th>\n",
       "      <th id=\"T_d9a5a_level0_col0\" class=\"col_heading level0 col0\" >Dataset</th>\n",
       "      <th id=\"T_d9a5a_level0_col1\" class=\"col_heading level0 col1\" >Mean RSSI Score</th>\n",
       "      <th id=\"T_d9a5a_level0_col2\" class=\"col_heading level0 col2\" >Mean RSSI Best Score</th>\n",
       "      <th id=\"T_d9a5a_level0_col3\" class=\"col_heading level0 col3\" >Mean Speed Score</th>\n",
       "      <th id=\"T_d9a5a_level0_col4\" class=\"col_heading level0 col4\" >Mean Speed Best Score</th>\n",
       "      <th id=\"T_d9a5a_level0_col5\" class=\"col_heading level0 col5\" >Mean QoS Score</th>\n",
       "      <th id=\"T_d9a5a_level0_col6\" class=\"col_heading level0 col6\" >Mean QoS Best Score</th>\n",
       "      <th id=\"T_d9a5a_level0_col7\" class=\"col_heading level0 col7\" >Mean RTT Score</th>\n",
       "      <th id=\"T_d9a5a_level0_col8\" class=\"col_heading level0 col8\" >Mean RTT Best Score</th>\n",
       "      <th id=\"T_d9a5a_level0_col9\" class=\"col_heading level0 col9\" >Weighted Score</th>\n",
       "      <th id=\"T_d9a5a_level0_col10\" class=\"col_heading level0 col10\" >Weighted Best Score</th>\n",
       "    </tr>\n",
       "  </thead>\n",
       "  <tbody>\n",
       "    <tr>\n",
       "      <th id=\"T_d9a5a_level0_row0\" class=\"row_heading level0 row0\" >0</th>\n",
       "      <td id=\"T_d9a5a_row0_col0\" class=\"data row0 col0\" >Dataset 1</td>\n",
       "      <td id=\"T_d9a5a_row0_col1\" class=\"data row0 col1\" >1.000000</td>\n",
       "      <td id=\"T_d9a5a_row0_col2\" class=\"data row0 col2\" >0.718750</td>\n",
       "      <td id=\"T_d9a5a_row0_col3\" class=\"data row0 col3\" >0.875000</td>\n",
       "      <td id=\"T_d9a5a_row0_col4\" class=\"data row0 col4\" >0.000000</td>\n",
       "      <td id=\"T_d9a5a_row0_col5\" class=\"data row0 col5\" >1.000000</td>\n",
       "      <td id=\"T_d9a5a_row0_col6\" class=\"data row0 col6\" >0.937500</td>\n",
       "      <td id=\"T_d9a5a_row0_col7\" class=\"data row0 col7\" >1.000000</td>\n",
       "      <td id=\"T_d9a5a_row0_col8\" class=\"data row0 col8\" >0.484375</td>\n",
       "      <td id=\"T_d9a5a_row0_col9\" class=\"data row0 col9\" >0.950000</td>\n",
       "      <td id=\"T_d9a5a_row0_col10\" class=\"data row0 col10\" >0.429688</td>\n",
       "    </tr>\n",
       "    <tr>\n",
       "      <th id=\"T_d9a5a_level0_row1\" class=\"row_heading level0 row1\" >1</th>\n",
       "      <td id=\"T_d9a5a_row1_col0\" class=\"data row1 col0\" >Dataset 2</td>\n",
       "      <td id=\"T_d9a5a_row1_col1\" class=\"data row1 col1\" >1.000000</td>\n",
       "      <td id=\"T_d9a5a_row1_col2\" class=\"data row1 col2\" >0.562500</td>\n",
       "      <td id=\"T_d9a5a_row1_col3\" class=\"data row1 col3\" >0.593750</td>\n",
       "      <td id=\"T_d9a5a_row1_col4\" class=\"data row1 col4\" >0.125000</td>\n",
       "      <td id=\"T_d9a5a_row1_col5\" class=\"data row1 col5\" >0.968750</td>\n",
       "      <td id=\"T_d9a5a_row1_col6\" class=\"data row1 col6\" >0.843750</td>\n",
       "      <td id=\"T_d9a5a_row1_col7\" class=\"data row1 col7\" >1.000000</td>\n",
       "      <td id=\"T_d9a5a_row1_col8\" class=\"data row1 col8\" >0.000000</td>\n",
       "      <td id=\"T_d9a5a_row1_col9\" class=\"data row1 col9\" >0.834375</td>\n",
       "      <td id=\"T_d9a5a_row1_col10\" class=\"data row1 col10\" >0.359375</td>\n",
       "    </tr>\n",
       "    <tr>\n",
       "      <th id=\"T_d9a5a_level0_row2\" class=\"row_heading level0 row2\" >2</th>\n",
       "      <td id=\"T_d9a5a_row2_col0\" class=\"data row2 col0\" >Dataset 3</td>\n",
       "      <td id=\"T_d9a5a_row2_col1\" class=\"data row2 col1\" >1.000000</td>\n",
       "      <td id=\"T_d9a5a_row2_col2\" class=\"data row2 col2\" >0.484375</td>\n",
       "      <td id=\"T_d9a5a_row2_col3\" class=\"data row2 col3\" >0.421875</td>\n",
       "      <td id=\"T_d9a5a_row2_col4\" class=\"data row2 col4\" >0.000000</td>\n",
       "      <td id=\"T_d9a5a_row2_col5\" class=\"data row2 col5\" >1.000000</td>\n",
       "      <td id=\"T_d9a5a_row2_col6\" class=\"data row2 col6\" >0.781250</td>\n",
       "      <td id=\"T_d9a5a_row2_col7\" class=\"data row2 col7\" >1.000000</td>\n",
       "      <td id=\"T_d9a5a_row2_col8\" class=\"data row2 col8\" >0.062500</td>\n",
       "      <td id=\"T_d9a5a_row2_col9\" class=\"data row2 col9\" >0.768750</td>\n",
       "      <td id=\"T_d9a5a_row2_col10\" class=\"data row2 col10\" >0.278125</td>\n",
       "    </tr>\n",
       "  </tbody>\n",
       "</table>\n"
      ],
      "text/plain": [
       "<pandas.io.formats.style.Styler at 0x1f406e6a150>"
      ]
     },
     "execution_count": 42,
     "metadata": {},
     "output_type": "execute_result"
    }
   ],
   "source": [
    "num_datasets = 3\n",
    "final_df = create_summary_table_filled(num_datasets, df_repeaters_fair)\n",
    "final_df.style.background_gradient(cmap='Blues', axis=None)"
   ]
  },
  {
   "cell_type": "code",
   "execution_count": 43,
   "id": "57af9528",
   "metadata": {},
   "outputs": [
    {
     "data": {
      "application/vnd.jupyter.widget-view+json": {
       "model_id": "b0d7cb95f51543708a2f60377baf79a5",
       "version_major": 2,
       "version_minor": 0
      },
      "text/plain": [
       "VBox(children=(HBox(children=(Dropdown(description='Metric:', layout=Layout(width='50%'), options=('RSSI (dBm)…"
      ]
     },
     "execution_count": 43,
     "metadata": {},
     "output_type": "execute_result"
    }
   ],
   "source": [
    "create_interactive_histograms(3, dfs_avg, df_repeaters_fair)"
   ]
  },
  {
   "cell_type": "markdown",
   "id": "2f2df28c",
   "metadata": {},
   "source": [
    "For the facility (quads of ~50x50 ft²), a single repeater like the SureCall Fusion4Home (~$399-$499 USD) should suffice for covering a quad and its surroundings effectively. If we need broader coverage or higher reliability across multiple quads simultaneously, we can consider the WilsonPro 70 Plus (~$1500) or Cel-Fi GO X models(~$1000).\n",
    "\n",
    "Let's just consider the average cost for a single repeater to be approximately $1000.\n",
    "\n",
    "So, the costs to boost signal to atleast _fair_ for each cellular provider would be:\n",
    "\n",
    "- Cellular Provider 1: ~$9000\n",
    "- Cellular Provider 2: ~$5000\n",
    "- Cellular Provider 3: ~$4000\n"
   ]
  },
  {
   "cell_type": "markdown",
   "id": "3f5c22b2",
   "metadata": {},
   "source": [
    "If budget is not a restriction, I would recommend the following:\n",
    "\n",
    "- **Cellular Provider 1**: It is the best choice for a transit agency priortizing performance and reliability for operations like data offloading. It requires more repeaters, but the investment is justified by the significant improvement in performance and reliability.\n",
    "\n",
    "If budget is a concern, I would recommend the following:\n",
    "\n",
    "- **Cellular Provider 2**: Stick with Cellular Provider 2, as it offers a good balance of performance and cost-effectiveness. It requires fewer repeaters, making it a more budget-friendly option while still providing reliable coverage.\n"
   ]
  },
  {
   "cell_type": "markdown",
   "id": "e437d850",
   "metadata": {},
   "source": [
    "**I would go with _Cellular Provider 2_ as Cellular Provider 2 delivers 80% of Cellular Provider 1’s performance at 55% of the repeater cost**"
   ]
  }
 ],
 "metadata": {
  "kernelspec": {
   "display_name": "bus_div_cell_cov",
   "language": "python",
   "name": "bus_div_cell_cov"
  },
  "language_info": {
   "codemirror_mode": {
    "name": "ipython",
    "version": 3
   },
   "file_extension": ".py",
   "mimetype": "text/x-python",
   "name": "python",
   "nbconvert_exporter": "python",
   "pygments_lexer": "ipython3",
   "version": "3.11.0"
  }
 },
 "nbformat": 4,
 "nbformat_minor": 5
}
